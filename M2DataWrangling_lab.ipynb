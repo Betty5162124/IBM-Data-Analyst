{
  "cells": [
    {
      "cell_type": "markdown",
      "metadata": {
        "id": "view-in-github",
        "colab_type": "text"
      },
      "source": [
        "<a href=\"https://colab.research.google.com/github/Betty5162124/tesetrpo/blob/main/M2DataWrangling_lab.ipynb\" target=\"_parent\"><img src=\"https://colab.research.google.com/assets/colab-badge.svg\" alt=\"Open In Colab\"/></a>"
      ]
    },
    {
      "cell_type": "markdown",
      "metadata": {
        "id": "c2hHce3W4Dh8"
      },
      "source": [
        "<p style=\"text-align:center\">\n",
        "    <a href=\"https://skills.network/?utm_medium=Exinfluencer&utm_source=Exinfluencer&utm_content=000026UJ&utm_term=10006555&utm_id=NA-SkillsNetwork-Channel-SkillsNetworkCoursesIBMDA0321ENSkillsNetwork928-2022-01-01\" target=\"_blank\">\n",
        "    <img src=\"https://cf-courses-data.s3.us.cloud-object-storage.appdomain.cloud/assets/logos/SN_web_lightmode.png\" width=\"200\" alt=\"Skills Network Logo\"  />\n",
        "    </a>\n",
        "</p>\n"
      ]
    },
    {
      "cell_type": "markdown",
      "metadata": {
        "id": "F8DLbU4m4DiB"
      },
      "source": [
        "# **Data Wrangling Lab**\n"
      ]
    },
    {
      "cell_type": "markdown",
      "metadata": {
        "id": "bSJzvU474DiC"
      },
      "source": [
        "Estimated time needed: **45 to 60** minutes\n"
      ]
    },
    {
      "cell_type": "markdown",
      "metadata": {
        "id": "RdMVz7Ym4DiD"
      },
      "source": [
        "In this assignment you will be performing data wrangling.\n"
      ]
    },
    {
      "cell_type": "markdown",
      "metadata": {
        "id": "2pg7Tzk14DiE"
      },
      "source": [
        "## Objectives\n"
      ]
    },
    {
      "cell_type": "markdown",
      "metadata": {
        "id": "aj-t5Xad4DiF"
      },
      "source": [
        "In this lab you will perform the following:\n"
      ]
    },
    {
      "cell_type": "markdown",
      "metadata": {
        "id": "cp2TUqLq4DiG"
      },
      "source": [
        "-   Identify duplicate values in the dataset.\n",
        "\n",
        "-   Remove duplicate values from the dataset.\n",
        "\n",
        "-   Identify missing values in the dataset.\n",
        "\n",
        "-   Impute the missing values in the dataset.\n",
        "\n",
        "-   Normalize data in the dataset.\n"
      ]
    },
    {
      "cell_type": "markdown",
      "metadata": {
        "id": "Yuz2Qwuv4DiH"
      },
      "source": [
        "<hr>\n"
      ]
    },
    {
      "cell_type": "markdown",
      "metadata": {
        "id": "drH_Xyfa4DiH"
      },
      "source": [
        "## Hands on Lab\n"
      ]
    },
    {
      "cell_type": "markdown",
      "metadata": {
        "id": "Xhi-vxLu4DiI"
      },
      "source": [
        "Import pandas module.\n"
      ]
    },
    {
      "cell_type": "code",
      "execution_count": 1,
      "metadata": {
        "id": "2XNzNHDv4DiJ"
      },
      "outputs": [],
      "source": [
        "import pandas as pd"
      ]
    },
    {
      "cell_type": "markdown",
      "metadata": {
        "id": "iGufNcaL4DiL"
      },
      "source": [
        "Load the dataset into a dataframe.\n"
      ]
    },
    {
      "cell_type": "code",
      "execution_count": 2,
      "metadata": {
        "id": "6j9j6i4-4DiM"
      },
      "outputs": [],
      "source": [
        "df = pd.read_csv(\"https://cf-courses-data.s3.us.cloud-object-storage.appdomain.cloud/IBM-DA0321EN-SkillsNetwork/LargeData/m1_survey_data.csv\")"
      ]
    },
    {
      "cell_type": "markdown",
      "metadata": {
        "id": "ww3uFt3G4DiM"
      },
      "source": [
        "## Finding duplicates\n"
      ]
    },
    {
      "cell_type": "markdown",
      "metadata": {
        "id": "JvqLnAOI4DiN"
      },
      "source": [
        "In this section you will identify duplicate values in the dataset.\n"
      ]
    },
    {
      "cell_type": "markdown",
      "metadata": {
        "id": "mmI435k04DiN"
      },
      "source": [
        " Find how many duplicate rows exist in the dataframe.\n"
      ]
    },
    {
      "cell_type": "code",
      "execution_count": 3,
      "metadata": {
        "colab": {
          "base_uri": "https://localhost:8080/"
        },
        "id": "UEPe95Zz4DiN",
        "outputId": "df8a8480-7a21-40c1-b73a-a4f421b5da66"
      },
      "outputs": [
        {
          "output_type": "stream",
          "name": "stdout",
          "text": [
            "There are 154 duplicate rows in the dataset.\n"
          ]
        }
      ],
      "source": [
        "# your code goes here\n",
        "# Find the number of duplicate rows in the DataFrame\n",
        "num_duplicates = df.duplicated().sum()\n",
        "\n",
        "print(f\"There are {num_duplicates} duplicate rows in the dataset.\")\n",
        "\n"
      ]
    },
    {
      "cell_type": "markdown",
      "metadata": {
        "id": "dTadV0bq4DiO"
      },
      "source": [
        "## Removing duplicates\n"
      ]
    },
    {
      "cell_type": "markdown",
      "metadata": {
        "id": "7LIdEAuc4DiO"
      },
      "source": [
        "Remove the duplicate rows from the dataframe.\n"
      ]
    },
    {
      "cell_type": "code",
      "execution_count": 4,
      "metadata": {
        "colab": {
          "base_uri": "https://localhost:8080/"
        },
        "id": "E3ATWYJy4DiO",
        "outputId": "63f3bdfa-cb9a-422d-871f-6923946164ab"
      },
      "outputs": [
        {
          "output_type": "stream",
          "name": "stdout",
          "text": [
            "Number of rows after removing duplicates: 11398\n"
          ]
        }
      ],
      "source": [
        "# your code goes here\n",
        "# Remove duplicate rows from the DataFrame\n",
        "df_cleaned = df.drop_duplicates()\n",
        "\n",
        "# Optionally, print the number of rows after removing duplicates to verify\n",
        "print(f\"Number of rows after removing duplicates: {df_cleaned.shape[0]}\")\n",
        "# Remove duplicate rows from the DataFrame in place\n",
        "df.drop_duplicates(inplace=True)\n",
        "\n"
      ]
    },
    {
      "cell_type": "markdown",
      "metadata": {
        "id": "zKCHn6x14DiO"
      },
      "source": [
        "Verify if duplicates were actually dropped.\n"
      ]
    },
    {
      "cell_type": "code",
      "execution_count": 6,
      "metadata": {
        "colab": {
          "base_uri": "https://localhost:8080/"
        },
        "id": "nIcIznCs4DiP",
        "outputId": "c8e72225-1509-4df7-d6f5-91ef8d94eae9"
      },
      "outputs": [
        {
          "output_type": "stream",
          "name": "stdout",
          "text": [
            "False    11398\n",
            "Name: count, dtype: int64\n"
          ]
        }
      ],
      "source": [
        "# your code goes here\n",
        "print(df.duplicated().value_counts())"
      ]
    },
    {
      "cell_type": "markdown",
      "metadata": {
        "id": "Zm47bihT4DiP"
      },
      "source": [
        "## Finding Missing values\n"
      ]
    },
    {
      "cell_type": "markdown",
      "metadata": {
        "id": "L-fwPvi14DiP"
      },
      "source": [
        "Find the missing values for all columns.\n"
      ]
    },
    {
      "cell_type": "code",
      "execution_count": 7,
      "metadata": {
        "colab": {
          "base_uri": "https://localhost:8080/"
        },
        "id": "Tcnm2cGg4DiP",
        "outputId": "9cedc4ee-3af0-45dd-c8e7-0ad467fc1ff7"
      },
      "outputs": [
        {
          "output_type": "stream",
          "name": "stdout",
          "text": [
            "Missing values for each column:\n",
            "Respondent        0\n",
            "MainBranch        0\n",
            "Hobbyist          0\n",
            "OpenSourcer       0\n",
            "OpenSource       81\n",
            "               ... \n",
            "Sexuality       542\n",
            "Ethnicity       675\n",
            "Dependents      140\n",
            "SurveyLength     19\n",
            "SurveyEase       14\n",
            "Length: 85, dtype: int64\n"
          ]
        }
      ],
      "source": [
        "# your code goes here\n",
        "# Find the number of missing values for each column\n",
        "missing_values = df.isnull().sum()\n",
        "\n",
        "print(\"Missing values for each column:\")\n",
        "print(missing_values)\n"
      ]
    },
    {
      "cell_type": "markdown",
      "metadata": {
        "id": "guLGE7YB4DiP"
      },
      "source": [
        "Find out how many rows are missing in the column 'WorkLoc'\n"
      ]
    },
    {
      "cell_type": "code",
      "execution_count": null,
      "metadata": {
        "id": "U0-0apDb4DiQ"
      },
      "outputs": [],
      "source": [
        "# your code goes here"
      ]
    },
    {
      "cell_type": "markdown",
      "metadata": {
        "id": "9C3obQA04DiQ"
      },
      "source": [
        "## Imputing missing values\n"
      ]
    },
    {
      "cell_type": "markdown",
      "metadata": {
        "id": "7bYmxZQs4DiQ"
      },
      "source": [
        "Find the  value counts for the column WorkLoc.\n"
      ]
    },
    {
      "cell_type": "code",
      "execution_count": 8,
      "metadata": {
        "colab": {
          "base_uri": "https://localhost:8080/"
        },
        "id": "_Vf7zlNF4DiQ",
        "outputId": "99ba0be8-45a9-4bb4-fed7-5632229c0673"
      },
      "outputs": [
        {
          "output_type": "stream",
          "name": "stdout",
          "text": [
            "Number of missing values in the 'WorkLoc' column: 32\n"
          ]
        }
      ],
      "source": [
        "# your code goes here\n",
        "# Find the number of missing values in the 'WorkLoc' column\n",
        "missing_workloc = df['WorkLoc'].isnull().sum()\n",
        "\n",
        "print(f\"Number of missing values in the 'WorkLoc' column: {missing_workloc}\")\n"
      ]
    },
    {
      "cell_type": "markdown",
      "metadata": {
        "id": "zAEEOQI84DiQ"
      },
      "source": [
        "Identify the value that is most frequent (majority) in the WorkLoc column.\n"
      ]
    },
    {
      "cell_type": "code",
      "execution_count": 9,
      "metadata": {
        "colab": {
          "base_uri": "https://localhost:8080/"
        },
        "id": "rkhpKRlm4DiR",
        "outputId": "96d39b63-c86a-49a2-e9c3-09e4c547e605"
      },
      "outputs": [
        {
          "output_type": "stream",
          "name": "stdout",
          "text": [
            "The most frequent value in the 'WorkLoc' column is: Office\n"
          ]
        }
      ],
      "source": [
        "#make a note of the majority value here, for future reference\n",
        "# Find the most frequent value in the 'WorkLoc' column\n",
        "most_frequent_workloc = df['WorkLoc'].mode()[0]\n",
        "\n",
        "print(f\"The most frequent value in the 'WorkLoc' column is: {most_frequent_workloc}\")\n"
      ]
    },
    {
      "cell_type": "markdown",
      "metadata": {
        "id": "WDwU29Tt4DiR"
      },
      "source": [
        "Impute (replace) all the empty rows in the column WorkLoc with the value that you have identified as majority.\n"
      ]
    },
    {
      "cell_type": "code",
      "execution_count": 10,
      "metadata": {
        "colab": {
          "base_uri": "https://localhost:8080/"
        },
        "id": "UYNsr_lU4DiS",
        "outputId": "b3b602d1-b123-4113-f402-b707d94b8d07"
      },
      "outputs": [
        {
          "output_type": "stream",
          "name": "stdout",
          "text": [
            "Number of missing values in the 'WorkLoc' column after imputation: 0\n"
          ]
        }
      ],
      "source": [
        "# your code goes here\n",
        "# Find the most frequent value in the 'WorkLoc' column\n",
        "most_frequent_workloc = df['WorkLoc'].mode()[0]\n",
        "\n",
        "# Replace missing values in the 'WorkLoc' column with the most frequent value\n",
        "df['WorkLoc'].fillna(most_frequent_workloc, inplace=True)\n",
        "\n",
        "# Verify the changes by checking for missing values again\n",
        "missing_workloc_after = df['WorkLoc'].isnull().sum()\n",
        "print(f\"Number of missing values in the 'WorkLoc' column after imputation: {missing_workloc_after}\")\n"
      ]
    },
    {
      "cell_type": "markdown",
      "metadata": {
        "id": "q9si18B74DiS"
      },
      "source": [
        "After imputation there should ideally not be any empty rows in the WorkLoc column.\n"
      ]
    },
    {
      "cell_type": "markdown",
      "metadata": {
        "id": "0wdv4eN94DiS"
      },
      "source": [
        "Verify if imputing was successful.\n"
      ]
    },
    {
      "cell_type": "code",
      "execution_count": 11,
      "metadata": {
        "colab": {
          "base_uri": "https://localhost:8080/"
        },
        "id": "EYCCQajp4DiS",
        "outputId": "7c75b2b1-ebe6-4366-9f4f-2d7dae576462"
      },
      "outputs": [
        {
          "output_type": "stream",
          "name": "stdout",
          "text": [
            "Imputation was successful: There are no missing values in the 'WorkLoc' column.\n"
          ]
        }
      ],
      "source": [
        "# your code goes here\n",
        "# Verify if imputing was successful\n",
        "missing_workloc_after = df['WorkLoc'].isnull().sum()\n",
        "\n",
        "if missing_workloc_after == 0:\n",
        "    print(\"Imputation was successful: There are no missing values in the 'WorkLoc' column.\")\n",
        "else:\n",
        "    print(f\"Imputation was not completely successful: There are {missing_workloc_after} missing values in the 'WorkLoc' column.\")\n",
        "\n"
      ]
    },
    {
      "cell_type": "markdown",
      "metadata": {
        "id": "05j4uM1S4DiS"
      },
      "source": [
        "## Normalizing data\n"
      ]
    },
    {
      "cell_type": "markdown",
      "metadata": {
        "id": "h6rWcFbT4DiS"
      },
      "source": [
        "There are two columns in the dataset that talk about compensation.\n",
        "\n",
        "One is \"CompFreq\". This column shows how often a developer is paid (Yearly, Monthly, Weekly).\n",
        "\n",
        "The other is \"CompTotal\". This column talks about how much the developer is paid per Year, Month, or Week depending upon his/her \"CompFreq\".\n",
        "\n",
        "This makes it difficult to compare the total compensation of the developers.\n",
        "\n",
        "In this section you will create a new column called 'NormalizedAnnualCompensation' which contains the 'Annual Compensation' irrespective of the 'CompFreq'.\n",
        "\n",
        "Once this column is ready, it makes comparison of salaries easy.\n"
      ]
    },
    {
      "cell_type": "markdown",
      "metadata": {
        "id": "cfwedCYF4DiT"
      },
      "source": [
        "<hr>\n"
      ]
    },
    {
      "cell_type": "markdown",
      "metadata": {
        "id": "NxNTihvV4DiT"
      },
      "source": [
        "List out the various categories in the column 'CompFreq'\n"
      ]
    },
    {
      "cell_type": "code",
      "execution_count": 12,
      "metadata": {
        "colab": {
          "base_uri": "https://localhost:8080/"
        },
        "id": "Lr7OXnMP4DiT",
        "outputId": "83ff417f-48ad-4229-9335-679f1c32e9b1"
      },
      "outputs": [
        {
          "output_type": "stream",
          "name": "stdout",
          "text": [
            "Categories in the 'CompFreq' column:\n",
            "['Yearly' 'Monthly' 'Weekly' nan]\n"
          ]
        }
      ],
      "source": [
        "# your code goes here\n",
        "# List out the various categories in the 'CompFreq' column\n",
        "comp_freq_categories = df['CompFreq'].unique()\n",
        "\n",
        "print(\"Categories in the 'CompFreq' column:\")\n",
        "print(comp_freq_categories)\n",
        "\n"
      ]
    },
    {
      "cell_type": "markdown",
      "metadata": {
        "id": "VrQo2Y6t4DiU"
      },
      "source": [
        "Create a new column named 'NormalizedAnnualCompensation'. Use the hint given below if needed.\n"
      ]
    },
    {
      "cell_type": "markdown",
      "metadata": {
        "id": "40mXxXpu4DiU"
      },
      "source": [
        "Double click to see the **Hint**.\n",
        "\n",
        "<!--\n",
        "\n",
        "Use the below logic to arrive at the values for the column NormalizedAnnualCompensation.\n",
        "\n",
        "If the CompFreq is Yearly then use the exising value in CompTotal\n",
        "If the CompFreq is Monthly then multiply the value in CompTotal with 12 (months in an year)\n",
        "If the CompFreq is Weekly then multiply the value in CompTotal with 52 (weeks in an year)\n",
        "\n",
        "-->\n"
      ]
    },
    {
      "cell_type": "code",
      "execution_count": 13,
      "metadata": {
        "colab": {
          "base_uri": "https://localhost:8080/"
        },
        "id": "m2hvhZfi4DiU",
        "outputId": "e8ed908e-02a8-400a-c72b-b620f10ad6fe"
      },
      "outputs": [
        {
          "output_type": "stream",
          "name": "stdout",
          "text": [
            "  CompFreq  CompTotal  NormalizedAnnualCompensation\n",
            "0   Yearly    61000.0                       61000.0\n",
            "1   Yearly   138000.0                      138000.0\n",
            "2   Yearly    90000.0                       90000.0\n",
            "3  Monthly    29000.0                      348000.0\n",
            "4   Yearly    90000.0                       90000.0\n"
          ]
        }
      ],
      "source": [
        "# your code goes here\n",
        "# Create the 'NormalizedAnnualCompensation' column based on 'CompFreq'\n",
        "def normalize_annual_compensation(row):\n",
        "    if row['CompFreq'] == 'Yearly':\n",
        "        return row['CompTotal']\n",
        "    elif row['CompFreq'] == 'Monthly':\n",
        "        return row['CompTotal'] * 12\n",
        "    elif row['CompFreq'] == 'Weekly':\n",
        "        return row['CompTotal'] * 52\n",
        "    else:\n",
        "        return None  # In case there are unexpected values in 'CompFreq'\n",
        "\n",
        "# Apply the function to create the new column\n",
        "df['NormalizedAnnualCompensation'] = df.apply(normalize_annual_compensation, axis=1)\n",
        "\n",
        "# Verify the new column by displaying the first few rows\n",
        "print(df[['CompFreq', 'CompTotal', 'NormalizedAnnualCompensation']].head())\n"
      ]
    },
    {
      "cell_type": "markdown",
      "metadata": {
        "id": "kU03Yl6E4DiU"
      },
      "source": [
        "## Authors\n"
      ]
    },
    {
      "cell_type": "markdown",
      "metadata": {
        "id": "nu6jIOnn4DiU"
      },
      "source": [
        "Ramesh Sannareddy\n"
      ]
    },
    {
      "cell_type": "markdown",
      "metadata": {
        "id": "xhJZBGdJ4DiV"
      },
      "source": [
        "### Other Contributors\n"
      ]
    },
    {
      "cell_type": "markdown",
      "metadata": {
        "id": "NUL_JhV44DiV"
      },
      "source": [
        "Rav Ahuja\n"
      ]
    },
    {
      "cell_type": "markdown",
      "metadata": {
        "id": "_uKkpFzG4DiV"
      },
      "source": [
        "## Change Log\n"
      ]
    },
    {
      "cell_type": "markdown",
      "metadata": {
        "id": "g-CJSQ9C4DiV"
      },
      "source": [
        "| Date (YYYY-MM-DD) | Version | Changed By        | Change Description                 |\n",
        "| ----------------- | ------- | ----------------- | ---------------------------------- |\n",
        "| 2020-10-17        | 0.1     | Ramesh Sannareddy | Created initial version of the lab |\n"
      ]
    },
    {
      "cell_type": "markdown",
      "metadata": {
        "id": "hU-PFbPW4DiW"
      },
      "source": [
        " Copyright © 2020 IBM Corporation. This notebook and its source code are released under the terms of the [MIT License](https://cognitiveclass.ai/mit-license?utm_medium=Exinfluencer&utm_source=Exinfluencer&utm_content=000026UJ&utm_term=10006555&utm_id=NA-SkillsNetwork-Channel-SkillsNetworkCoursesIBMDA0321ENSkillsNetwork928-2022-01-01&cm_mmc=Email_Newsletter-_-Developer_Ed%2BTech-_-WW_WW-_-SkillsNetwork-Courses-IBM-DA0321EN-SkillsNetwork-21426264&cm_mmca1=000026UJ&cm_mmca2=10006555&cm_mmca3=M12345678&cvosrc=email.Newsletter.M12345678&cvo_campaign=000026UJ).\n"
      ]
    }
  ],
  "metadata": {
    "kernelspec": {
      "display_name": "Python",
      "language": "python",
      "name": "conda-env-python-py"
    },
    "language_info": {
      "name": ""
    },
    "colab": {
      "provenance": [],
      "include_colab_link": true
    }
  },
  "nbformat": 4,
  "nbformat_minor": 0
}