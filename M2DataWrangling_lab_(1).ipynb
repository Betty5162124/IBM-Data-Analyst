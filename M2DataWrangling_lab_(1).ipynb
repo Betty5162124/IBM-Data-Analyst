{
  "cells": [
    {
      "cell_type": "markdown",
      "metadata": {
        "id": "view-in-github",
        "colab_type": "text"
      },
      "source": [
        "<a href=\"https://colab.research.google.com/github/Betty5162124/tesetrpo/blob/main/M2DataWrangling_lab_(1).ipynb\" target=\"_parent\"><img src=\"https://colab.research.google.com/assets/colab-badge.svg\" alt=\"Open In Colab\"/></a>"
      ]
    },
    {
      "cell_type": "markdown",
      "metadata": {
        "id": "UktdXQGPkEle"
      },
      "source": [
        "<p style=\"text-align:center\">\n",
        "    <a href=\"https://skills.network/?utm_medium=Exinfluencer&utm_source=Exinfluencer&utm_content=000026UJ&utm_term=10006555&utm_id=NA-SkillsNetwork-Channel-SkillsNetworkCoursesIBMDA0321ENSkillsNetwork928-2022-01-01\" target=\"_blank\">\n",
        "    <img src=\"https://cf-courses-data.s3.us.cloud-object-storage.appdomain.cloud/assets/logos/SN_web_lightmode.png\" width=\"200\" alt=\"Skills Network Logo\"  />\n",
        "    </a>\n",
        "</p>\n"
      ]
    },
    {
      "cell_type": "markdown",
      "metadata": {
        "id": "Gu9-5_DtkElh"
      },
      "source": [
        "# **Data Wrangling Lab**\n"
      ]
    },
    {
      "cell_type": "markdown",
      "metadata": {
        "id": "M9IZGDNskElh"
      },
      "source": [
        "Estimated time needed: **45 to 60** minutes\n"
      ]
    },
    {
      "cell_type": "markdown",
      "metadata": {
        "id": "uf9BiAyxkElh"
      },
      "source": [
        "In this assignment you will be performing data wrangling.\n"
      ]
    },
    {
      "cell_type": "markdown",
      "metadata": {
        "id": "fqOIXYKTkEli"
      },
      "source": [
        "## Objectives\n"
      ]
    },
    {
      "cell_type": "markdown",
      "metadata": {
        "id": "U7H5UU9QkEli"
      },
      "source": [
        "In this lab you will perform the following:\n"
      ]
    },
    {
      "cell_type": "markdown",
      "metadata": {
        "id": "t7bDwNFmkEli"
      },
      "source": [
        "-   Identify duplicate values in the dataset.\n",
        "\n",
        "-   Remove duplicate values from the dataset.\n",
        "\n",
        "-   Identify missing values in the dataset.\n",
        "\n",
        "-   Impute the missing values in the dataset.\n",
        "\n",
        "-   Normalize data in the dataset.\n"
      ]
    },
    {
      "cell_type": "markdown",
      "metadata": {
        "id": "edxtOFonkEli"
      },
      "source": [
        "<hr>\n"
      ]
    },
    {
      "cell_type": "markdown",
      "metadata": {
        "id": "7xPYC73BkEli"
      },
      "source": [
        "## Hands on Lab\n"
      ]
    },
    {
      "cell_type": "markdown",
      "metadata": {
        "id": "F9-weiwbkElj"
      },
      "source": [
        "Import pandas module.\n"
      ]
    },
    {
      "cell_type": "code",
      "execution_count": 3,
      "metadata": {
        "id": "Bii80VZ7kElj"
      },
      "outputs": [],
      "source": [
        "import pandas as pd"
      ]
    },
    {
      "cell_type": "code",
      "source": [
        "import pandas as pd\n",
        "\n",
        "# Load the dataset into a DataFrame\n",
        "df = pd.read_csv(\"https://cf-courses-data.s3.us.cloud-object-storage.appdomain.cloud/IBM-DA0321EN-SkillsNetwork/LargeData/m1_survey_data.csv\")\n",
        "\n",
        "# Display the first few rows of the DataFrame\n",
        "print(df.head())\n"
      ],
      "metadata": {
        "colab": {
          "base_uri": "https://localhost:8080/"
        },
        "id": "7yQNMNOwmtyB",
        "outputId": "9fc4ff9e-b216-452b-944c-79567ed31da9"
      },
      "execution_count": 4,
      "outputs": [
        {
          "output_type": "stream",
          "name": "stdout",
          "text": [
            "   Respondent                      MainBranch Hobbyist  \\\n",
            "0           4  I am a developer by profession       No   \n",
            "1           9  I am a developer by profession      Yes   \n",
            "2          13  I am a developer by profession      Yes   \n",
            "3          16  I am a developer by profession      Yes   \n",
            "4          17  I am a developer by profession      Yes   \n",
            "\n",
            "                                         OpenSourcer  \\\n",
            "0                                              Never   \n",
            "1                         Once a month or more often   \n",
            "2  Less than once a month but more than once per ...   \n",
            "3                                              Never   \n",
            "4  Less than once a month but more than once per ...   \n",
            "\n",
            "                                          OpenSource          Employment  \\\n",
            "0  The quality of OSS and closed source software ...  Employed full-time   \n",
            "1  The quality of OSS and closed source software ...  Employed full-time   \n",
            "2  OSS is, on average, of HIGHER quality than pro...  Employed full-time   \n",
            "3  The quality of OSS and closed source software ...  Employed full-time   \n",
            "4  The quality of OSS and closed source software ...  Employed full-time   \n",
            "\n",
            "          Country Student                                            EdLevel  \\\n",
            "0   United States      No           Bachelor’s degree (BA, BS, B.Eng., etc.)   \n",
            "1     New Zealand      No  Some college/university study without earning ...   \n",
            "2   United States      No        Master’s degree (MA, MS, M.Eng., MBA, etc.)   \n",
            "3  United Kingdom      No        Master’s degree (MA, MS, M.Eng., MBA, etc.)   \n",
            "4       Australia      No           Bachelor’s degree (BA, BS, B.Eng., etc.)   \n",
            "\n",
            "                                      UndergradMajor  ...  \\\n",
            "0  Computer science, computer engineering, or sof...  ...   \n",
            "1  Computer science, computer engineering, or sof...  ...   \n",
            "2  Computer science, computer engineering, or sof...  ...   \n",
            "3                                                NaN  ...   \n",
            "4  Computer science, computer engineering, or sof...  ...   \n",
            "\n",
            "                              WelcomeChange  \\\n",
            "0   Just as welcome now as I felt last year   \n",
            "1   Just as welcome now as I felt last year   \n",
            "2  Somewhat more welcome now than last year   \n",
            "3   Just as welcome now as I felt last year   \n",
            "4   Just as welcome now as I felt last year   \n",
            "\n",
            "                                        SONewContent   Age Gender Trans  \\\n",
            "0  Tech articles written by other developers;Indu...  22.0    Man    No   \n",
            "1                                                NaN  23.0    Man    No   \n",
            "2  Tech articles written by other developers;Cour...  28.0    Man    No   \n",
            "3  Tech articles written by other developers;Indu...  26.0    Man    No   \n",
            "4  Tech articles written by other developers;Indu...  29.0    Man    No   \n",
            "\n",
            "                 Sexuality                              Ethnicity Dependents  \\\n",
            "0  Straight / Heterosexual           White or of European descent         No   \n",
            "1                 Bisexual           White or of European descent         No   \n",
            "2  Straight / Heterosexual           White or of European descent        Yes   \n",
            "3  Straight / Heterosexual           White or of European descent         No   \n",
            "4  Straight / Heterosexual  Hispanic or Latino/Latina;Multiracial         No   \n",
            "\n",
            "            SurveyLength                  SurveyEase  \n",
            "0  Appropriate in length                        Easy  \n",
            "1  Appropriate in length  Neither easy nor difficult  \n",
            "2  Appropriate in length                        Easy  \n",
            "3  Appropriate in length  Neither easy nor difficult  \n",
            "4  Appropriate in length                        Easy  \n",
            "\n",
            "[5 rows x 85 columns]\n"
          ]
        }
      ]
    },
    {
      "cell_type": "code",
      "source": [
        "from pyodide.http import pyfetch\n",
        "\n",
        "async def download(url, filename):\n",
        "    response = await pyfetch(url)\n",
        "    if response.status == 200:\n",
        "        with open(filename, \"wb\") as f:\n",
        "            f.write(await response.bytes())\n",
        "\n",
        "# URL of the dataset\n",
        "url = \"https://cf-courses-data.s3.us.cloud-object-storage.appdomain.cloud/IBM-DA0321EN-SkillsNetwork/LargeData/m1_survey_data.csv\"\n",
        "\n",
        "# Filename to save the dataset\n",
        "filename = \"m1_survey_data.csv\"\n",
        "\n",
        "# Call the download function\n",
        "await download(url, filename)\n"
      ],
      "metadata": {
        "id": "RRu9tvm8neoH"
      },
      "execution_count": null,
      "outputs": []
    },
    {
      "cell_type": "code",
      "source": [
        "from pyodide.http import pyfetch\n",
        "\n",
        "async def download(url, filename):\n",
        "    response = await pyfetch(url)\n",
        "    if response.status == 200:\n",
        "        with open(filename, \"wb\") as f:\n",
        "            f.write(await response.bytes())\n"
      ],
      "metadata": {
        "colab": {
          "base_uri": "https://localhost:8080/",
          "height": 383
        },
        "id": "EXNUbQFTnf-3",
        "outputId": "d9351944-d03e-4102-eee3-9ffe2b4100cc"
      },
      "execution_count": 8,
      "outputs": [
        {
          "output_type": "error",
          "ename": "ModuleNotFoundError",
          "evalue": "No module named 'pyodide'",
          "traceback": [
            "\u001b[0;31m---------------------------------------------------------------------------\u001b[0m",
            "\u001b[0;31mModuleNotFoundError\u001b[0m                       Traceback (most recent call last)",
            "\u001b[0;32m<ipython-input-8-f68b327ce09e>\u001b[0m in \u001b[0;36m<cell line: 1>\u001b[0;34m()\u001b[0m\n\u001b[0;32m----> 1\u001b[0;31m \u001b[0;32mfrom\u001b[0m \u001b[0mpyodide\u001b[0m\u001b[0;34m.\u001b[0m\u001b[0mhttp\u001b[0m \u001b[0;32mimport\u001b[0m \u001b[0mpyfetch\u001b[0m\u001b[0;34m\u001b[0m\u001b[0;34m\u001b[0m\u001b[0m\n\u001b[0m\u001b[1;32m      2\u001b[0m \u001b[0;34m\u001b[0m\u001b[0m\n\u001b[1;32m      3\u001b[0m \u001b[0;32masync\u001b[0m \u001b[0;32mdef\u001b[0m \u001b[0mdownload\u001b[0m\u001b[0;34m(\u001b[0m\u001b[0murl\u001b[0m\u001b[0;34m,\u001b[0m \u001b[0mfilename\u001b[0m\u001b[0;34m)\u001b[0m\u001b[0;34m:\u001b[0m\u001b[0;34m\u001b[0m\u001b[0;34m\u001b[0m\u001b[0m\n\u001b[1;32m      4\u001b[0m     \u001b[0mresponse\u001b[0m \u001b[0;34m=\u001b[0m \u001b[0;32mawait\u001b[0m \u001b[0mpyfetch\u001b[0m\u001b[0;34m(\u001b[0m\u001b[0murl\u001b[0m\u001b[0;34m)\u001b[0m\u001b[0;34m\u001b[0m\u001b[0;34m\u001b[0m\u001b[0m\n\u001b[1;32m      5\u001b[0m     \u001b[0;32mif\u001b[0m \u001b[0mresponse\u001b[0m\u001b[0;34m.\u001b[0m\u001b[0mstatus\u001b[0m \u001b[0;34m==\u001b[0m \u001b[0;36m200\u001b[0m\u001b[0;34m:\u001b[0m\u001b[0;34m\u001b[0m\u001b[0;34m\u001b[0m\u001b[0m\n",
            "\u001b[0;31mModuleNotFoundError\u001b[0m: No module named 'pyodide'",
            "",
            "\u001b[0;31m---------------------------------------------------------------------------\u001b[0;32m\nNOTE: If your import is failing due to a missing package, you can\nmanually install dependencies using either !pip or !apt.\n\nTo view examples of installing some common dependencies, click the\n\"Open Examples\" button below.\n\u001b[0;31m---------------------------------------------------------------------------\u001b[0m\n"
          ],
          "errorDetails": {
            "actions": [
              {
                "action": "open_url",
                "actionText": "Open Examples",
                "url": "/notebooks/snippets/importing_libraries.ipynb"
              }
            ]
          }
        }
      ]
    },
    {
      "cell_type": "code",
      "source": [
        "import requests\n",
        "\n",
        "def download(url, filename):\n",
        "    response = requests.get(url)\n",
        "    if response.status_code == 200:\n",
        "        with open(filename, \"wb\") as f:\n",
        "            f.write(response.content)\n",
        "\n",
        "# URL of the dataset\n",
        "url = \"https://cf-courses-data.s3.us.cloud-object-storage.appdomain.cloud/IBM-DA0321EN-SkillsNetwork/LargeData/m1_survey_data.csv\"\n",
        "\n",
        "# Filename to save the dataset\n",
        "filename = \"m1_survey_data.csv\"\n",
        "\n",
        "# Call the download function\n",
        "download(url, filename)\n"
      ],
      "metadata": {
        "id": "mbGA486nyqmM"
      },
      "execution_count": 9,
      "outputs": []
    },
    {
      "cell_type": "code",
      "source": [
        "import pandas as pd\n",
        "\n",
        "# Load the dataset into a DataFrame\n",
        "df = pd.read_csv(\"m1_survey_data.csv\")\n",
        "\n",
        "# Display the first few rows of the DataFrame\n",
        "print(df.head())\n"
      ],
      "metadata": {
        "colab": {
          "base_uri": "https://localhost:8080/"
        },
        "id": "Sg8wwRi0ysLM",
        "outputId": "72d715d5-d7e6-470b-f773-a829a254d1b3"
      },
      "execution_count": 10,
      "outputs": [
        {
          "output_type": "stream",
          "name": "stdout",
          "text": [
            "   Respondent                      MainBranch Hobbyist  \\\n",
            "0           4  I am a developer by profession       No   \n",
            "1           9  I am a developer by profession      Yes   \n",
            "2          13  I am a developer by profession      Yes   \n",
            "3          16  I am a developer by profession      Yes   \n",
            "4          17  I am a developer by profession      Yes   \n",
            "\n",
            "                                         OpenSourcer  \\\n",
            "0                                              Never   \n",
            "1                         Once a month or more often   \n",
            "2  Less than once a month but more than once per ...   \n",
            "3                                              Never   \n",
            "4  Less than once a month but more than once per ...   \n",
            "\n",
            "                                          OpenSource          Employment  \\\n",
            "0  The quality of OSS and closed source software ...  Employed full-time   \n",
            "1  The quality of OSS and closed source software ...  Employed full-time   \n",
            "2  OSS is, on average, of HIGHER quality than pro...  Employed full-time   \n",
            "3  The quality of OSS and closed source software ...  Employed full-time   \n",
            "4  The quality of OSS and closed source software ...  Employed full-time   \n",
            "\n",
            "          Country Student                                            EdLevel  \\\n",
            "0   United States      No           Bachelor’s degree (BA, BS, B.Eng., etc.)   \n",
            "1     New Zealand      No  Some college/university study without earning ...   \n",
            "2   United States      No        Master’s degree (MA, MS, M.Eng., MBA, etc.)   \n",
            "3  United Kingdom      No        Master’s degree (MA, MS, M.Eng., MBA, etc.)   \n",
            "4       Australia      No           Bachelor’s degree (BA, BS, B.Eng., etc.)   \n",
            "\n",
            "                                      UndergradMajor  ...  \\\n",
            "0  Computer science, computer engineering, or sof...  ...   \n",
            "1  Computer science, computer engineering, or sof...  ...   \n",
            "2  Computer science, computer engineering, or sof...  ...   \n",
            "3                                                NaN  ...   \n",
            "4  Computer science, computer engineering, or sof...  ...   \n",
            "\n",
            "                              WelcomeChange  \\\n",
            "0   Just as welcome now as I felt last year   \n",
            "1   Just as welcome now as I felt last year   \n",
            "2  Somewhat more welcome now than last year   \n",
            "3   Just as welcome now as I felt last year   \n",
            "4   Just as welcome now as I felt last year   \n",
            "\n",
            "                                        SONewContent   Age Gender Trans  \\\n",
            "0  Tech articles written by other developers;Indu...  22.0    Man    No   \n",
            "1                                                NaN  23.0    Man    No   \n",
            "2  Tech articles written by other developers;Cour...  28.0    Man    No   \n",
            "3  Tech articles written by other developers;Indu...  26.0    Man    No   \n",
            "4  Tech articles written by other developers;Indu...  29.0    Man    No   \n",
            "\n",
            "                 Sexuality                              Ethnicity Dependents  \\\n",
            "0  Straight / Heterosexual           White or of European descent         No   \n",
            "1                 Bisexual           White or of European descent         No   \n",
            "2  Straight / Heterosexual           White or of European descent        Yes   \n",
            "3  Straight / Heterosexual           White or of European descent         No   \n",
            "4  Straight / Heterosexual  Hispanic or Latino/Latina;Multiracial         No   \n",
            "\n",
            "            SurveyLength                  SurveyEase  \n",
            "0  Appropriate in length                        Easy  \n",
            "1  Appropriate in length  Neither easy nor difficult  \n",
            "2  Appropriate in length                        Easy  \n",
            "3  Appropriate in length  Neither easy nor difficult  \n",
            "4  Appropriate in length                        Easy  \n",
            "\n",
            "[5 rows x 85 columns]\n"
          ]
        }
      ]
    },
    {
      "cell_type": "markdown",
      "metadata": {
        "id": "Kan0r6DHkElj"
      },
      "source": [
        "Load the dataset into a dataframe.\n"
      ]
    },
    {
      "cell_type": "code",
      "execution_count": 11,
      "metadata": {
        "id": "An-zINpXkElk"
      },
      "outputs": [],
      "source": [
        "df = pd.read_csv(\"https://cf-courses-data.s3.us.cloud-object-storage.appdomain.cloud/IBM-DA0321EN-SkillsNetwork/LargeData/m1_survey_data.csv\")"
      ]
    },
    {
      "cell_type": "code",
      "source": [
        "import requests\n",
        "\n",
        "def download(url, filename):\n",
        "    response = requests.get(url)\n",
        "    if response.status_code == 200:\n",
        "        with open(filename, \"wb\") as f:\n",
        "            f.write(response.content)\n",
        "\n",
        "# URL of the dataset\n",
        "url = \"https://cf-courses-data.s3.us.cloud-object-storage.appdomain.cloud/IBM-DA0321EN-SkillsNetwork/LargeData/m1_survey_data.csv\"\n",
        "\n",
        "# Filename to save the dataset\n",
        "filename = \"m1_survey_data.csv\"\n",
        "\n",
        "# Call the download function\n",
        "download(url, filename)\n"
      ],
      "metadata": {
        "id": "uu63XqcfmT0B"
      },
      "execution_count": 12,
      "outputs": []
    },
    {
      "cell_type": "code",
      "source": [
        "import pandas as pd\n",
        "\n",
        "# Load the dataset into a DataFrame\n",
        "df = pd.read_csv(\"m1_survey_data.csv\")\n",
        "\n",
        "# Display the first few rows of the DataFrame\n",
        "print(df.head())\n"
      ],
      "metadata": {
        "colab": {
          "base_uri": "https://localhost:8080/"
        },
        "id": "5fvA2jx7zkcG",
        "outputId": "bf61725d-5ad0-4bc8-b97e-d612bbfa4d15"
      },
      "execution_count": 13,
      "outputs": [
        {
          "output_type": "stream",
          "name": "stdout",
          "text": [
            "   Respondent                      MainBranch Hobbyist  \\\n",
            "0           4  I am a developer by profession       No   \n",
            "1           9  I am a developer by profession      Yes   \n",
            "2          13  I am a developer by profession      Yes   \n",
            "3          16  I am a developer by profession      Yes   \n",
            "4          17  I am a developer by profession      Yes   \n",
            "\n",
            "                                         OpenSourcer  \\\n",
            "0                                              Never   \n",
            "1                         Once a month or more often   \n",
            "2  Less than once a month but more than once per ...   \n",
            "3                                              Never   \n",
            "4  Less than once a month but more than once per ...   \n",
            "\n",
            "                                          OpenSource          Employment  \\\n",
            "0  The quality of OSS and closed source software ...  Employed full-time   \n",
            "1  The quality of OSS and closed source software ...  Employed full-time   \n",
            "2  OSS is, on average, of HIGHER quality than pro...  Employed full-time   \n",
            "3  The quality of OSS and closed source software ...  Employed full-time   \n",
            "4  The quality of OSS and closed source software ...  Employed full-time   \n",
            "\n",
            "          Country Student                                            EdLevel  \\\n",
            "0   United States      No           Bachelor’s degree (BA, BS, B.Eng., etc.)   \n",
            "1     New Zealand      No  Some college/university study without earning ...   \n",
            "2   United States      No        Master’s degree (MA, MS, M.Eng., MBA, etc.)   \n",
            "3  United Kingdom      No        Master’s degree (MA, MS, M.Eng., MBA, etc.)   \n",
            "4       Australia      No           Bachelor’s degree (BA, BS, B.Eng., etc.)   \n",
            "\n",
            "                                      UndergradMajor  ...  \\\n",
            "0  Computer science, computer engineering, or sof...  ...   \n",
            "1  Computer science, computer engineering, or sof...  ...   \n",
            "2  Computer science, computer engineering, or sof...  ...   \n",
            "3                                                NaN  ...   \n",
            "4  Computer science, computer engineering, or sof...  ...   \n",
            "\n",
            "                              WelcomeChange  \\\n",
            "0   Just as welcome now as I felt last year   \n",
            "1   Just as welcome now as I felt last year   \n",
            "2  Somewhat more welcome now than last year   \n",
            "3   Just as welcome now as I felt last year   \n",
            "4   Just as welcome now as I felt last year   \n",
            "\n",
            "                                        SONewContent   Age Gender Trans  \\\n",
            "0  Tech articles written by other developers;Indu...  22.0    Man    No   \n",
            "1                                                NaN  23.0    Man    No   \n",
            "2  Tech articles written by other developers;Cour...  28.0    Man    No   \n",
            "3  Tech articles written by other developers;Indu...  26.0    Man    No   \n",
            "4  Tech articles written by other developers;Indu...  29.0    Man    No   \n",
            "\n",
            "                 Sexuality                              Ethnicity Dependents  \\\n",
            "0  Straight / Heterosexual           White or of European descent         No   \n",
            "1                 Bisexual           White or of European descent         No   \n",
            "2  Straight / Heterosexual           White or of European descent        Yes   \n",
            "3  Straight / Heterosexual           White or of European descent         No   \n",
            "4  Straight / Heterosexual  Hispanic or Latino/Latina;Multiracial         No   \n",
            "\n",
            "            SurveyLength                  SurveyEase  \n",
            "0  Appropriate in length                        Easy  \n",
            "1  Appropriate in length  Neither easy nor difficult  \n",
            "2  Appropriate in length                        Easy  \n",
            "3  Appropriate in length  Neither easy nor difficult  \n",
            "4  Appropriate in length                        Easy  \n",
            "\n",
            "[5 rows x 85 columns]\n"
          ]
        }
      ]
    },
    {
      "cell_type": "markdown",
      "metadata": {
        "id": "gGtwReUVkElk"
      },
      "source": [
        "## Finding duplicates\n"
      ]
    },
    {
      "cell_type": "markdown",
      "metadata": {
        "id": "9eliQ-KskElk"
      },
      "source": [
        "In this section you will identify duplicate values in the dataset.\n"
      ]
    },
    {
      "cell_type": "markdown",
      "metadata": {
        "id": "L9G3bRnIkElk"
      },
      "source": [
        " Find how many duplicate rows exist in the dataframe.\n"
      ]
    },
    {
      "cell_type": "code",
      "execution_count": 16,
      "metadata": {
        "colab": {
          "base_uri": "https://localhost:8080/"
        },
        "id": "msA3637pkElk",
        "outputId": "ab8fa0a0-f8f5-48d3-91ff-238c9ba1e7cd"
      },
      "outputs": [
        {
          "output_type": "stream",
          "name": "stdout",
          "text": [
            "Number of duplicate rows: 154\n"
          ]
        }
      ],
      "source": [
        "# your code goes here\n",
        "# Find duplicate rows\n",
        "duplicate_rows = df.duplicated()\n",
        "\n",
        "# Count the number of duplicate rows\n",
        "num_duplicates = duplicate_rows.sum()\n",
        "\n",
        "print(f\"Number of duplicate rows: {num_duplicates}\")\n"
      ]
    },
    {
      "cell_type": "markdown",
      "metadata": {
        "id": "vKCW2hQ6kElk"
      },
      "source": [
        "## Removing duplicates\n"
      ]
    },
    {
      "cell_type": "markdown",
      "metadata": {
        "id": "jxSxlsMQkEll"
      },
      "source": [
        "Remove the duplicate rows from the dataframe.\n"
      ]
    },
    {
      "cell_type": "code",
      "execution_count": 20,
      "metadata": {
        "colab": {
          "base_uri": "https://localhost:8080/"
        },
        "id": "2n1_8EmMkEll",
        "outputId": "1afac132-eec9-4878-cdbc-bdcbb4339f09"
      },
      "outputs": [
        {
          "output_type": "stream",
          "name": "stdout",
          "text": [
            "   Respondent                      MainBranch Hobbyist  \\\n",
            "0           4  I am a developer by profession       No   \n",
            "1           9  I am a developer by profession      Yes   \n",
            "2          13  I am a developer by profession      Yes   \n",
            "3          16  I am a developer by profession      Yes   \n",
            "4          17  I am a developer by profession      Yes   \n",
            "\n",
            "                                         OpenSourcer  \\\n",
            "0                                              Never   \n",
            "1                         Once a month or more often   \n",
            "2  Less than once a month but more than once per ...   \n",
            "3                                              Never   \n",
            "4  Less than once a month but more than once per ...   \n",
            "\n",
            "                                          OpenSource          Employment  \\\n",
            "0  The quality of OSS and closed source software ...  Employed full-time   \n",
            "1  The quality of OSS and closed source software ...  Employed full-time   \n",
            "2  OSS is, on average, of HIGHER quality than pro...  Employed full-time   \n",
            "3  The quality of OSS and closed source software ...  Employed full-time   \n",
            "4  The quality of OSS and closed source software ...  Employed full-time   \n",
            "\n",
            "          Country Student                                            EdLevel  \\\n",
            "0   United States      No           Bachelor’s degree (BA, BS, B.Eng., etc.)   \n",
            "1     New Zealand      No  Some college/university study without earning ...   \n",
            "2   United States      No        Master’s degree (MA, MS, M.Eng., MBA, etc.)   \n",
            "3  United Kingdom      No        Master’s degree (MA, MS, M.Eng., MBA, etc.)   \n",
            "4       Australia      No           Bachelor’s degree (BA, BS, B.Eng., etc.)   \n",
            "\n",
            "                                      UndergradMajor  ...  \\\n",
            "0  Computer science, computer engineering, or sof...  ...   \n",
            "1  Computer science, computer engineering, or sof...  ...   \n",
            "2  Computer science, computer engineering, or sof...  ...   \n",
            "3                                                NaN  ...   \n",
            "4  Computer science, computer engineering, or sof...  ...   \n",
            "\n",
            "                              WelcomeChange  \\\n",
            "0   Just as welcome now as I felt last year   \n",
            "1   Just as welcome now as I felt last year   \n",
            "2  Somewhat more welcome now than last year   \n",
            "3   Just as welcome now as I felt last year   \n",
            "4   Just as welcome now as I felt last year   \n",
            "\n",
            "                                        SONewContent   Age Gender Trans  \\\n",
            "0  Tech articles written by other developers;Indu...  22.0    Man    No   \n",
            "1                                                NaN  23.0    Man    No   \n",
            "2  Tech articles written by other developers;Cour...  28.0    Man    No   \n",
            "3  Tech articles written by other developers;Indu...  26.0    Man    No   \n",
            "4  Tech articles written by other developers;Indu...  29.0    Man    No   \n",
            "\n",
            "                 Sexuality                              Ethnicity Dependents  \\\n",
            "0  Straight / Heterosexual           White or of European descent         No   \n",
            "1                 Bisexual           White or of European descent         No   \n",
            "2  Straight / Heterosexual           White or of European descent        Yes   \n",
            "3  Straight / Heterosexual           White or of European descent         No   \n",
            "4  Straight / Heterosexual  Hispanic or Latino/Latina;Multiracial         No   \n",
            "\n",
            "            SurveyLength                  SurveyEase  \n",
            "0  Appropriate in length                        Easy  \n",
            "1  Appropriate in length  Neither easy nor difficult  \n",
            "2  Appropriate in length                        Easy  \n",
            "3  Appropriate in length  Neither easy nor difficult  \n",
            "4  Appropriate in length                        Easy  \n",
            "\n",
            "[5 rows x 85 columns]\n",
            "Number of duplicate rows after removal: 0\n"
          ]
        }
      ],
      "source": [
        "# your code goes here\n",
        "# Remove duplicate rows\n",
        "df_cleaned = df.drop_duplicates()\n",
        "\n",
        "# Display the first few rows of the cleaned DataFrame\n",
        "print(df_cleaned.head())\n",
        "\n",
        "# Optional: Verify that duplicates have been removed\n",
        "num_duplicates_after = df_cleaned.duplicated().sum()\n",
        "print(f\"Number of duplicate rows after removal: {num_duplicates_after}\")\n",
        "df.drop_duplicates(inplace=True)\n",
        "\n"
      ]
    },
    {
      "cell_type": "markdown",
      "metadata": {
        "id": "xXoQuL-SkEll"
      },
      "source": [
        "Verify if duplicates were actually dropped.\n"
      ]
    },
    {
      "cell_type": "code",
      "execution_count": 21,
      "metadata": {
        "colab": {
          "base_uri": "https://localhost:8080/"
        },
        "id": "ntWbii8vkEll",
        "outputId": "9fbb71ea-6d2b-498c-84f2-adcb50ebd9fd"
      },
      "outputs": [
        {
          "output_type": "stream",
          "name": "stdout",
          "text": [
            "Number of duplicate rows before removal: 0\n",
            "Number of duplicate rows after removal: 0\n"
          ]
        }
      ],
      "source": [
        "# your code goes here\n",
        "# Check number of duplicate rows before removal\n",
        "num_duplicates_before = df.duplicated().sum()\n",
        "print(f\"Number of duplicate rows before removal: {num_duplicates_before}\")\n",
        "\n",
        "# Remove duplicate rows\n",
        "df.drop_duplicates(inplace=True)\n",
        "\n",
        "# Check number of duplicate rows after removal\n",
        "num_duplicates_after = df.duplicated().sum()\n",
        "print(f\"Number of duplicate rows after removal: {num_duplicates_after}\")\n"
      ]
    },
    {
      "cell_type": "markdown",
      "metadata": {
        "id": "fxVe0NvhkEll"
      },
      "source": [
        "## Finding Missing values\n"
      ]
    },
    {
      "cell_type": "markdown",
      "metadata": {
        "id": "FNHa9EoskEll"
      },
      "source": [
        "Find the missing values for all columns.\n"
      ]
    },
    {
      "cell_type": "code",
      "execution_count": 22,
      "metadata": {
        "colab": {
          "base_uri": "https://localhost:8080/"
        },
        "id": "45hkPyk5kElm",
        "outputId": "48d7ace0-a170-4bad-84dc-8c0a2dad13fc"
      },
      "outputs": [
        {
          "output_type": "stream",
          "name": "stdout",
          "text": [
            "Respondent        0\n",
            "MainBranch        0\n",
            "Hobbyist          0\n",
            "OpenSourcer       0\n",
            "OpenSource       81\n",
            "               ... \n",
            "Sexuality       542\n",
            "Ethnicity       675\n",
            "Dependents      140\n",
            "SurveyLength     19\n",
            "SurveyEase       14\n",
            "Length: 85, dtype: int64\n"
          ]
        }
      ],
      "source": [
        "# your code goes here\n",
        "# Find missing values for all columns\n",
        "missing_values = df.isnull().sum()\n",
        "\n",
        "# Display the number of missing values for each column\n",
        "print(missing_values)\n"
      ]
    },
    {
      "cell_type": "markdown",
      "metadata": {
        "id": "4nTnE8E8kElm"
      },
      "source": [
        "Find out how many rows are missing in the column 'WorkLoc'\n"
      ]
    },
    {
      "cell_type": "code",
      "execution_count": 23,
      "metadata": {
        "colab": {
          "base_uri": "https://localhost:8080/"
        },
        "id": "yYHzzOkakElm",
        "outputId": "36d196ff-cf68-404a-8319-7a7b617b9278"
      },
      "outputs": [
        {
          "output_type": "stream",
          "name": "stdout",
          "text": [
            "Number of missing values in 'WorkLoc': 32\n"
          ]
        }
      ],
      "source": [
        "# your code goes here\n",
        "# Find the number of missing values in the 'WorkLoc' column\n",
        "missing_workloc = df['WorkLoc'].isnull().sum()\n",
        "\n",
        "print(f\"Number of missing values in 'WorkLoc': {missing_workloc}\")\n"
      ]
    },
    {
      "cell_type": "markdown",
      "metadata": {
        "id": "xe2-43RPkEln"
      },
      "source": [
        "## Imputing missing values\n"
      ]
    },
    {
      "cell_type": "markdown",
      "metadata": {
        "id": "yPI9NcDPkEln"
      },
      "source": [
        "Find the  value counts for the column WorkLoc.\n"
      ]
    },
    {
      "cell_type": "code",
      "execution_count": 24,
      "metadata": {
        "colab": {
          "base_uri": "https://localhost:8080/"
        },
        "id": "TuXtYqtkkEln",
        "outputId": "900a08f9-73fc-4469-ef34-d105d8136a46"
      },
      "outputs": [
        {
          "output_type": "stream",
          "name": "stdout",
          "text": [
            "WorkLoc\n",
            "Office                                            6806\n",
            "Home                                              3589\n",
            "Other place, such as a coworking space or cafe     971\n",
            "Name: count, dtype: int64\n"
          ]
        }
      ],
      "source": [
        "# your code goes here\n",
        "# Find the value counts for the 'WorkLoc' column\n",
        "workloc_value_counts = df['WorkLoc'].value_counts()\n",
        "\n",
        "print(workloc_value_counts)\n"
      ]
    },
    {
      "cell_type": "markdown",
      "metadata": {
        "id": "bNccJNvwkEln"
      },
      "source": [
        "Identify the value that is most frequent (majority) in the WorkLoc column.\n"
      ]
    },
    {
      "cell_type": "code",
      "execution_count": 25,
      "metadata": {
        "colab": {
          "base_uri": "https://localhost:8080/"
        },
        "id": "g3S_Xe6XkEln",
        "outputId": "afa7a4c5-2a31-4fc1-d7e0-d5bfae839450"
      },
      "outputs": [
        {
          "output_type": "stream",
          "name": "stdout",
          "text": [
            "The most frequent value in 'WorkLoc' is: Office\n"
          ]
        }
      ],
      "source": [
        "# The most frequent value in 'WorkLoc' is: <majority_value>\n",
        "most_frequent_workloc = df['WorkLoc'].mode()[0]\n",
        "\n",
        "# Note: The majority value in 'WorkLoc' is '<majority_value>'\n",
        "print(f\"The most frequent value in 'WorkLoc' is: {most_frequent_workloc}\")\n"
      ]
    },
    {
      "cell_type": "markdown",
      "metadata": {
        "id": "F3_zR923kElo"
      },
      "source": [
        "Impute (replace) all the empty rows in the column WorkLoc with the value that you have identified as majority.\n"
      ]
    },
    {
      "cell_type": "code",
      "execution_count": 26,
      "metadata": {
        "id": "iretbdu_kElo"
      },
      "outputs": [],
      "source": [
        "# your code goes here\n",
        "most_frequent_workloc = df['WorkLoc'].mode()[0]\n"
      ]
    },
    {
      "cell_type": "code",
      "source": [
        "# Replace missing values in 'WorkLoc' with the most frequent value\n",
        "df['WorkLoc'].fillna(most_frequent_workloc, inplace=True)\n",
        "\n",
        "# Verify that there are no missing values left in 'WorkLoc'\n",
        "missing_values_after = df['WorkLoc'].isnull().sum()\n",
        "print(f\"Number of missing values in 'WorkLoc' after imputation: {missing_values_after}\")\n"
      ],
      "metadata": {
        "colab": {
          "base_uri": "https://localhost:8080/"
        },
        "id": "dZ3cC8Bu2H_R",
        "outputId": "5b35ba2c-547a-4af2-d9f8-528c07101b1c"
      },
      "execution_count": 27,
      "outputs": [
        {
          "output_type": "stream",
          "name": "stdout",
          "text": [
            "Number of missing values in 'WorkLoc' after imputation: 0\n"
          ]
        }
      ]
    },
    {
      "cell_type": "markdown",
      "metadata": {
        "id": "ku39cS22kElo"
      },
      "source": [
        "After imputation there should ideally not be any empty rows in the WorkLoc column.\n"
      ]
    },
    {
      "cell_type": "markdown",
      "metadata": {
        "id": "cjLcQgR8kElo"
      },
      "source": [
        "Verify if imputing was successful.\n"
      ]
    },
    {
      "cell_type": "code",
      "execution_count": 28,
      "metadata": {
        "colab": {
          "base_uri": "https://localhost:8080/"
        },
        "id": "zE3Po-kjkElo",
        "outputId": "c2e7c236-6f14-4bc2-d508-efb5f59c06e9"
      },
      "outputs": [
        {
          "output_type": "stream",
          "name": "stdout",
          "text": [
            "Number of missing values in 'WorkLoc' after imputation: 0\n"
          ]
        }
      ],
      "source": [
        "# your code goes here\n",
        "# Check the number of missing values in 'WorkLoc' after imputation\n",
        "missing_values_after = df['WorkLoc'].isnull().sum()\n",
        "\n",
        "print(f\"Number of missing values in 'WorkLoc' after imputation: {missing_values_after}\")\n"
      ]
    },
    {
      "cell_type": "markdown",
      "metadata": {
        "id": "48Hv_HkIkElo"
      },
      "source": [
        "## Normalizing data\n"
      ]
    },
    {
      "cell_type": "markdown",
      "metadata": {
        "id": "aXWCsP3ekElo"
      },
      "source": [
        "There are two columns in the dataset that talk about compensation.\n",
        "\n",
        "One is \"CompFreq\". This column shows how often a developer is paid (Yearly, Monthly, Weekly).\n",
        "\n",
        "The other is \"CompTotal\". This column talks about how much the developer is paid per Year, Month, or Week depending upon his/her \"CompFreq\".\n",
        "\n",
        "This makes it difficult to compare the total compensation of the developers.\n",
        "\n",
        "In this section you will create a new column called 'NormalizedAnnualCompensation' which contains the 'Annual Compensation' irrespective of the 'CompFreq'.\n",
        "\n",
        "Once this column is ready, it makes comparison of salaries easy.\n"
      ]
    },
    {
      "cell_type": "markdown",
      "metadata": {
        "id": "DpD3Zh4LkElt"
      },
      "source": [
        "<hr>\n"
      ]
    },
    {
      "cell_type": "markdown",
      "metadata": {
        "id": "Q02bmSAOkElu"
      },
      "source": [
        "List out the various categories in the column 'CompFreq'\n"
      ]
    },
    {
      "cell_type": "code",
      "execution_count": 29,
      "metadata": {
        "colab": {
          "base_uri": "https://localhost:8080/"
        },
        "id": "mfH7ASMlkElu",
        "outputId": "3e3425ea-ec6f-4d54-f5db-322b92e77ecc"
      },
      "outputs": [
        {
          "output_type": "stream",
          "name": "stdout",
          "text": [
            "Categories in 'CompFreq': ['Yearly' 'Monthly' 'Weekly' nan]\n"
          ]
        }
      ],
      "source": [
        "# your code goes here\n",
        "# List out the unique categories in the 'CompFreq' column\n",
        "comp_freq_categories = df['CompFreq'].unique()\n",
        "\n",
        "print(\"Categories in 'CompFreq':\", comp_freq_categories)\n"
      ]
    },
    {
      "cell_type": "markdown",
      "metadata": {
        "id": "6hkZ4IKvkElu"
      },
      "source": [
        "Create a new column named 'NormalizedAnnualCompensation'. Use the hint given below if needed.\n"
      ]
    },
    {
      "cell_type": "markdown",
      "metadata": {
        "id": "mTUWf2tYkElu"
      },
      "source": [
        "[link text](https://)Double click to see the **Hint**.\n",
        "\n",
        "<!--\n",
        "\n",
        "Use the below logic to arrive at the values for the column NormalizedAnnualCompensation.\n",
        "\n",
        "If the CompFreq is Yearly then use the exising value in CompTotal\n",
        "If the CompFreq is Monthly then multiply the value in CompTotal with 12 (months in an year)\n",
        "If the CompFreq is Weekly then multiply the value in CompTotal with 52 (weeks in an year)\n",
        "\n",
        "-->\n"
      ]
    },
    {
      "cell_type": "code",
      "execution_count": 30,
      "metadata": {
        "colab": {
          "base_uri": "https://localhost:8080/"
        },
        "id": "CqwzhFmMkElv",
        "outputId": "ae68cfed-f701-4abf-a891-3042814e0940"
      },
      "outputs": [
        {
          "output_type": "stream",
          "name": "stdout",
          "text": [
            "   Respondent                      MainBranch Hobbyist  \\\n",
            "0           4  I am a developer by profession       No   \n",
            "1           9  I am a developer by profession      Yes   \n",
            "2          13  I am a developer by profession      Yes   \n",
            "3          16  I am a developer by profession      Yes   \n",
            "4          17  I am a developer by profession      Yes   \n",
            "\n",
            "                                         OpenSourcer  \\\n",
            "0                                              Never   \n",
            "1                         Once a month or more often   \n",
            "2  Less than once a month but more than once per ...   \n",
            "3                                              Never   \n",
            "4  Less than once a month but more than once per ...   \n",
            "\n",
            "                                          OpenSource          Employment  \\\n",
            "0  The quality of OSS and closed source software ...  Employed full-time   \n",
            "1  The quality of OSS and closed source software ...  Employed full-time   \n",
            "2  OSS is, on average, of HIGHER quality than pro...  Employed full-time   \n",
            "3  The quality of OSS and closed source software ...  Employed full-time   \n",
            "4  The quality of OSS and closed source software ...  Employed full-time   \n",
            "\n",
            "          Country Student                                            EdLevel  \\\n",
            "0   United States      No           Bachelor’s degree (BA, BS, B.Eng., etc.)   \n",
            "1     New Zealand      No  Some college/university study without earning ...   \n",
            "2   United States      No        Master’s degree (MA, MS, M.Eng., MBA, etc.)   \n",
            "3  United Kingdom      No        Master’s degree (MA, MS, M.Eng., MBA, etc.)   \n",
            "4       Australia      No           Bachelor’s degree (BA, BS, B.Eng., etc.)   \n",
            "\n",
            "                                      UndergradMajor  ...  \\\n",
            "0  Computer science, computer engineering, or sof...  ...   \n",
            "1  Computer science, computer engineering, or sof...  ...   \n",
            "2  Computer science, computer engineering, or sof...  ...   \n",
            "3                                                NaN  ...   \n",
            "4  Computer science, computer engineering, or sof...  ...   \n",
            "\n",
            "                                        SONewContent   Age Gender Trans  \\\n",
            "0  Tech articles written by other developers;Indu...  22.0    Man    No   \n",
            "1                                                NaN  23.0    Man    No   \n",
            "2  Tech articles written by other developers;Cour...  28.0    Man    No   \n",
            "3  Tech articles written by other developers;Indu...  26.0    Man    No   \n",
            "4  Tech articles written by other developers;Indu...  29.0    Man    No   \n",
            "\n",
            "                 Sexuality                              Ethnicity Dependents  \\\n",
            "0  Straight / Heterosexual           White or of European descent         No   \n",
            "1                 Bisexual           White or of European descent         No   \n",
            "2  Straight / Heterosexual           White or of European descent        Yes   \n",
            "3  Straight / Heterosexual           White or of European descent         No   \n",
            "4  Straight / Heterosexual  Hispanic or Latino/Latina;Multiracial         No   \n",
            "\n",
            "            SurveyLength                  SurveyEase  \\\n",
            "0  Appropriate in length                        Easy   \n",
            "1  Appropriate in length  Neither easy nor difficult   \n",
            "2  Appropriate in length                        Easy   \n",
            "3  Appropriate in length  Neither easy nor difficult   \n",
            "4  Appropriate in length                        Easy   \n",
            "\n",
            "  NormalizedAnnualCompensation  \n",
            "0                      61000.0  \n",
            "1                     138000.0  \n",
            "2                      90000.0  \n",
            "3                     348000.0  \n",
            "4                      90000.0  \n",
            "\n",
            "[5 rows x 86 columns]\n"
          ]
        }
      ],
      "source": [
        "# your code goes here\n",
        "# Define a function to calculate normalized annual compensation\n",
        "def calculate_annual_compensation(row):\n",
        "    if row['CompFreq'] == 'Yearly':\n",
        "        return row['CompTotal']\n",
        "    elif row['CompFreq'] == 'Monthly':\n",
        "        return row['CompTotal'] * 12\n",
        "    elif row['CompFreq'] == 'Weekly':\n",
        "        return row['CompTotal'] * 52\n",
        "    else:\n",
        "        return None  # Handle unexpected values\n",
        "\n",
        "# Apply the function to create the 'NormalizedAnnualCompensation' column\n",
        "df['NormalizedAnnualCompensation'] = df.apply(calculate_annual_compensation, axis=1)\n",
        "\n",
        "# Display the first few rows of the updated DataFrame\n",
        "print(df.head())\n"
      ]
    },
    {
      "cell_type": "code",
      "source": [
        "# Impute missing values with the median\n",
        "median_comp = df['ConvertedComp'].median()\n",
        "df['ConvertedComp'].fillna(median_comp, inplace=True)\n"
      ],
      "metadata": {
        "id": "8T7gnZO03RDt"
      },
      "execution_count": 31,
      "outputs": []
    },
    {
      "cell_type": "code",
      "source": [
        "# Calculate the median of the 'ConvertedComp' column\n",
        "median_comp = df['ConvertedComp'].median()\n",
        "\n",
        "# Impute missing values in 'ConvertedComp' with the median\n",
        "df['ConvertedComp'].fillna(median_comp, inplace=True)\n",
        "\n",
        "# Verify that there are no missing values left\n",
        "missing_values_after = df['ConvertedComp'].isnull().sum()\n",
        "print(f\"Number of missing values in 'ConvertedComp' after imputation: {missing_values_after}\")\n"
      ],
      "metadata": {
        "colab": {
          "base_uri": "https://localhost:8080/"
        },
        "id": "yopRlgnG3SpY",
        "outputId": "07ced861-547d-4692-8ea3-3ba5418bee78"
      },
      "execution_count": 32,
      "outputs": [
        {
          "output_type": "stream",
          "name": "stdout",
          "text": [
            "Number of missing values in 'ConvertedComp' after imputation: 0\n"
          ]
        }
      ]
    },
    {
      "cell_type": "code",
      "source": [
        "# Count the occurrences of each category in 'UndergradMajor'\n",
        "major_counts = df['UndergradMajor'].value_counts()\n",
        "\n",
        "# Find the category with the minimum number of rows\n",
        "min_major = major_counts.idxmin()\n",
        "min_count = major_counts.min()\n",
        "\n",
        "print(f\"The category with the minimum number of rows is '{min_major}' with {min_count} rows.\")\n"
      ],
      "metadata": {
        "colab": {
          "base_uri": "https://localhost:8080/"
        },
        "id": "WsOmIt073ycX",
        "outputId": "d293677e-986a-4d6c-f55c-16f1c7bb2f7d"
      },
      "execution_count": 33,
      "outputs": [
        {
          "output_type": "stream",
          "name": "stdout",
          "text": [
            "The category with the minimum number of rows is 'A health science (ex. nursing, pharmacy, radiology)' with 24 rows.\n"
          ]
        }
      ]
    },
    {
      "cell_type": "markdown",
      "metadata": {
        "id": "T-K8gSdlkElv"
      },
      "source": [
        "## Authors\n"
      ]
    },
    {
      "cell_type": "markdown",
      "metadata": {
        "id": "eNqMrTphkElv"
      },
      "source": [
        "Ramesh Sannareddy\n"
      ]
    },
    {
      "cell_type": "markdown",
      "metadata": {
        "id": "BtyyxAkmkElv"
      },
      "source": [
        "### Other Contributors\n"
      ]
    },
    {
      "cell_type": "markdown",
      "metadata": {
        "id": "6x_1A7UlkElw"
      },
      "source": [
        "Rav Ahuja\n"
      ]
    },
    {
      "cell_type": "markdown",
      "metadata": {
        "id": "P9upaeQIkElw"
      },
      "source": [
        "## Change Log\n"
      ]
    },
    {
      "cell_type": "markdown",
      "metadata": {
        "id": "L3SuxZnakElw"
      },
      "source": [
        "| Date (YYYY-MM-DD) | Version | Changed By        | Change Description                 |\n",
        "| ----------------- | ------- | ----------------- | ---------------------------------- |\n",
        "| 2020-10-17        | 0.1     | Ramesh Sannareddy | Created initial version of the lab |\n"
      ]
    },
    {
      "cell_type": "markdown",
      "metadata": {
        "id": "d9QFyBBZkElw"
      },
      "source": [
        " Copyright © 2020 IBM Corporation. This notebook and its source code are released under the terms of the [MIT License](https://cognitiveclass.ai/mit-license?utm_medium=Exinfluencer&utm_source=Exinfluencer&utm_content=000026UJ&utm_term=10006555&utm_id=NA-SkillsNetwork-Channel-SkillsNetworkCoursesIBMDA0321ENSkillsNetwork928-2022-01-01&cm_mmc=Email_Newsletter-_-Developer_Ed%2BTech-_-WW_WW-_-SkillsNetwork-Courses-IBM-DA0321EN-SkillsNetwork-21426264&cm_mmca1=000026UJ&cm_mmca2=10006555&cm_mmca3=M12345678&cvosrc=email.Newsletter.M12345678&cvo_campaign=000026UJ).\n"
      ]
    }
  ],
  "metadata": {
    "kernelspec": {
      "display_name": "Python",
      "language": "python",
      "name": "conda-env-python-py"
    },
    "language_info": {
      "name": ""
    },
    "colab": {
      "provenance": [],
      "include_colab_link": true
    }
  },
  "nbformat": 4,
  "nbformat_minor": 0
}