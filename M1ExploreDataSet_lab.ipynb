{
  "cells": [
    {
      "cell_type": "markdown",
      "metadata": {
        "id": "view-in-github",
        "colab_type": "text"
      },
      "source": [
        "<a href=\"https://colab.research.google.com/github/Betty5162124/tesetrpo/blob/main/M1ExploreDataSet_lab.ipynb\" target=\"_parent\"><img src=\"https://colab.research.google.com/assets/colab-badge.svg\" alt=\"Open In Colab\"/></a>"
      ]
    },
    {
      "cell_type": "markdown",
      "metadata": {
        "id": "bfNAYi9oxX_T"
      },
      "source": [
        "<p style=\"text-align:center\">\n",
        "    <a href=\"https://skills.network/?utm_medium=Exinfluencer&utm_source=Exinfluencer&utm_content=000026UJ&utm_term=10006555&utm_id=NA-SkillsNetwork-Channel-SkillsNetworkCoursesIBMDA0321ENSkillsNetwork928-2022-01-01\" target=\"_blank\">\n",
        "    <img src=\"https://cf-courses-data.s3.us.cloud-object-storage.appdomain.cloud/assets/logos/SN_web_lightmode.png\" width=\"200\" alt=\"Skills Network Logo\"  />\n",
        "    </a>\n",
        "</p>\n"
      ]
    },
    {
      "cell_type": "markdown",
      "metadata": {
        "id": "bl16BtjAxX_b"
      },
      "source": [
        "# **Survey Dataset Exploration Lab**\n"
      ]
    },
    {
      "cell_type": "markdown",
      "metadata": {
        "id": "i37xIgi6xX_d"
      },
      "source": [
        "Estimated time needed: **30** minutes\n"
      ]
    },
    {
      "cell_type": "markdown",
      "metadata": {
        "id": "HlXCwH4-xX_e"
      },
      "source": [
        "## Objectives\n"
      ]
    },
    {
      "cell_type": "markdown",
      "metadata": {
        "id": "pVurZtpNxX_f"
      },
      "source": [
        "After completing this lab you will be able to:\n"
      ]
    },
    {
      "cell_type": "markdown",
      "metadata": {
        "id": "zmk5bzXqxX_g"
      },
      "source": [
        "-   Load the dataset that will used thru the capstone project.\n",
        "-   Explore the dataset.\n",
        "-   Get familier with the data types.\n"
      ]
    },
    {
      "cell_type": "code",
      "source": [],
      "metadata": {
        "id": "iN5eOfOSzGX8"
      },
      "execution_count": null,
      "outputs": []
    },
    {
      "cell_type": "markdown",
      "metadata": {
        "id": "JJ2MoX5txX_h"
      },
      "source": [
        "## Load the dataset\n"
      ]
    },
    {
      "cell_type": "markdown",
      "metadata": {
        "id": "JmlSF0OWxX_h"
      },
      "source": [
        "Import the required libraries.\n"
      ]
    },
    {
      "cell_type": "code",
      "execution_count": 1,
      "metadata": {
        "id": "afgm24vWxX_i"
      },
      "outputs": [],
      "source": [
        "import pandas as pd"
      ]
    },
    {
      "cell_type": "markdown",
      "metadata": {
        "id": "n7kH0c7kxX_k"
      },
      "source": [
        "The dataset is available on the IBM Cloud at the below url.\n"
      ]
    },
    {
      "cell_type": "code",
      "execution_count": 2,
      "metadata": {
        "id": "FpTuU53hxX_k"
      },
      "outputs": [],
      "source": [
        "dataset_url = \"https://cf-courses-data.s3.us.cloud-object-storage.appdomain.cloud/IBM-DA0321EN-SkillsNetwork/LargeData/m1_survey_data.csv\""
      ]
    },
    {
      "cell_type": "markdown",
      "metadata": {
        "id": "7wQgOLpexX_o"
      },
      "source": [
        "Load the data available at dataset_url into a dataframe.\n"
      ]
    },
    {
      "cell_type": "code",
      "execution_count": 6,
      "metadata": {
        "colab": {
          "base_uri": "https://localhost:8080/"
        },
        "id": "CuEkanxLxX_q",
        "outputId": "61dcf35f-fadd-4d96-ae4f-c8f7333e2972"
      },
      "outputs": [
        {
          "output_type": "stream",
          "name": "stdout",
          "text": [
            "   Respondent                      MainBranch Hobbyist  \\\n",
            "0           4  I am a developer by profession       No   \n",
            "1           9  I am a developer by profession      Yes   \n",
            "2          13  I am a developer by profession      Yes   \n",
            "3          16  I am a developer by profession      Yes   \n",
            "4          17  I am a developer by profession      Yes   \n",
            "\n",
            "                                         OpenSourcer  \\\n",
            "0                                              Never   \n",
            "1                         Once a month or more often   \n",
            "2  Less than once a month but more than once per ...   \n",
            "3                                              Never   \n",
            "4  Less than once a month but more than once per ...   \n",
            "\n",
            "                                          OpenSource          Employment  \\\n",
            "0  The quality of OSS and closed source software ...  Employed full-time   \n",
            "1  The quality of OSS and closed source software ...  Employed full-time   \n",
            "2  OSS is, on average, of HIGHER quality than pro...  Employed full-time   \n",
            "3  The quality of OSS and closed source software ...  Employed full-time   \n",
            "4  The quality of OSS and closed source software ...  Employed full-time   \n",
            "\n",
            "          Country Student                                            EdLevel  \\\n",
            "0   United States      No           Bachelor’s degree (BA, BS, B.Eng., etc.)   \n",
            "1     New Zealand      No  Some college/university study without earning ...   \n",
            "2   United States      No        Master’s degree (MA, MS, M.Eng., MBA, etc.)   \n",
            "3  United Kingdom      No        Master’s degree (MA, MS, M.Eng., MBA, etc.)   \n",
            "4       Australia      No           Bachelor’s degree (BA, BS, B.Eng., etc.)   \n",
            "\n",
            "                                      UndergradMajor  ...  \\\n",
            "0  Computer science, computer engineering, or sof...  ...   \n",
            "1  Computer science, computer engineering, or sof...  ...   \n",
            "2  Computer science, computer engineering, or sof...  ...   \n",
            "3                                                NaN  ...   \n",
            "4  Computer science, computer engineering, or sof...  ...   \n",
            "\n",
            "                              WelcomeChange  \\\n",
            "0   Just as welcome now as I felt last year   \n",
            "1   Just as welcome now as I felt last year   \n",
            "2  Somewhat more welcome now than last year   \n",
            "3   Just as welcome now as I felt last year   \n",
            "4   Just as welcome now as I felt last year   \n",
            "\n",
            "                                        SONewContent   Age Gender Trans  \\\n",
            "0  Tech articles written by other developers;Indu...  22.0    Man    No   \n",
            "1                                                NaN  23.0    Man    No   \n",
            "2  Tech articles written by other developers;Cour...  28.0    Man    No   \n",
            "3  Tech articles written by other developers;Indu...  26.0    Man    No   \n",
            "4  Tech articles written by other developers;Indu...  29.0    Man    No   \n",
            "\n",
            "                 Sexuality                              Ethnicity Dependents  \\\n",
            "0  Straight / Heterosexual           White or of European descent         No   \n",
            "1                 Bisexual           White or of European descent         No   \n",
            "2  Straight / Heterosexual           White or of European descent        Yes   \n",
            "3  Straight / Heterosexual           White or of European descent         No   \n",
            "4  Straight / Heterosexual  Hispanic or Latino/Latina;Multiracial         No   \n",
            "\n",
            "            SurveyLength                  SurveyEase  \n",
            "0  Appropriate in length                        Easy  \n",
            "1  Appropriate in length  Neither easy nor difficult  \n",
            "2  Appropriate in length                        Easy  \n",
            "3  Appropriate in length  Neither easy nor difficult  \n",
            "4  Appropriate in length                        Easy  \n",
            "\n",
            "[5 rows x 85 columns]\n"
          ]
        }
      ],
      "source": [
        "df = pd.read_csv(dataset_url)\n",
        "print(df.head())"
      ]
    },
    {
      "cell_type": "markdown",
      "metadata": {
        "id": "6VZnrNiYxX_r"
      },
      "source": [
        "## Explore the data set\n"
      ]
    },
    {
      "cell_type": "markdown",
      "metadata": {
        "id": "aJLQ-KJmxX_r"
      },
      "source": [
        "It is a good idea to print the top 5 rows of the dataset to get a feel of how the dataset will look.\n"
      ]
    },
    {
      "cell_type": "markdown",
      "metadata": {
        "id": "80WArEksxX_s"
      },
      "source": [
        "Display the top 5 rows and columns from your dataset.\n"
      ]
    },
    {
      "cell_type": "code",
      "execution_count": 8,
      "metadata": {
        "colab": {
          "base_uri": "https://localhost:8080/",
          "height": 300
        },
        "id": "He90nS-IxX_s",
        "outputId": "305996fa-2e42-40f5-faef-8de9a60b3903"
      },
      "outputs": [
        {
          "output_type": "execute_result",
          "data": {
            "text/plain": [
              "   Respondent                      MainBranch Hobbyist  \\\n",
              "0           4  I am a developer by profession       No   \n",
              "1           9  I am a developer by profession      Yes   \n",
              "\n",
              "                  OpenSourcer  \\\n",
              "0                       Never   \n",
              "1  Once a month or more often   \n",
              "\n",
              "                                          OpenSource          Employment  \\\n",
              "0  The quality of OSS and closed source software ...  Employed full-time   \n",
              "1  The quality of OSS and closed source software ...  Employed full-time   \n",
              "\n",
              "         Country Student                                            EdLevel  \\\n",
              "0  United States      No           Bachelor’s degree (BA, BS, B.Eng., etc.)   \n",
              "1    New Zealand      No  Some college/university study without earning ...   \n",
              "\n",
              "                                      UndergradMajor  ...  \\\n",
              "0  Computer science, computer engineering, or sof...  ...   \n",
              "1  Computer science, computer engineering, or sof...  ...   \n",
              "\n",
              "                             WelcomeChange  \\\n",
              "0  Just as welcome now as I felt last year   \n",
              "1  Just as welcome now as I felt last year   \n",
              "\n",
              "                                        SONewContent   Age Gender Trans  \\\n",
              "0  Tech articles written by other developers;Indu...  22.0    Man    No   \n",
              "1                                                NaN  23.0    Man    No   \n",
              "\n",
              "                 Sexuality                     Ethnicity Dependents  \\\n",
              "0  Straight / Heterosexual  White or of European descent         No   \n",
              "1                 Bisexual  White or of European descent         No   \n",
              "\n",
              "            SurveyLength                  SurveyEase  \n",
              "0  Appropriate in length                        Easy  \n",
              "1  Appropriate in length  Neither easy nor difficult  \n",
              "\n",
              "[2 rows x 85 columns]"
            ],
            "text/html": [
              "\n",
              "  <div id=\"df-8aa3d245-9066-4db0-8528-a6e0de30cefc\" class=\"colab-df-container\">\n",
              "    <div>\n",
              "<style scoped>\n",
              "    .dataframe tbody tr th:only-of-type {\n",
              "        vertical-align: middle;\n",
              "    }\n",
              "\n",
              "    .dataframe tbody tr th {\n",
              "        vertical-align: top;\n",
              "    }\n",
              "\n",
              "    .dataframe thead th {\n",
              "        text-align: right;\n",
              "    }\n",
              "</style>\n",
              "<table border=\"1\" class=\"dataframe\">\n",
              "  <thead>\n",
              "    <tr style=\"text-align: right;\">\n",
              "      <th></th>\n",
              "      <th>Respondent</th>\n",
              "      <th>MainBranch</th>\n",
              "      <th>Hobbyist</th>\n",
              "      <th>OpenSourcer</th>\n",
              "      <th>OpenSource</th>\n",
              "      <th>Employment</th>\n",
              "      <th>Country</th>\n",
              "      <th>Student</th>\n",
              "      <th>EdLevel</th>\n",
              "      <th>UndergradMajor</th>\n",
              "      <th>...</th>\n",
              "      <th>WelcomeChange</th>\n",
              "      <th>SONewContent</th>\n",
              "      <th>Age</th>\n",
              "      <th>Gender</th>\n",
              "      <th>Trans</th>\n",
              "      <th>Sexuality</th>\n",
              "      <th>Ethnicity</th>\n",
              "      <th>Dependents</th>\n",
              "      <th>SurveyLength</th>\n",
              "      <th>SurveyEase</th>\n",
              "    </tr>\n",
              "  </thead>\n",
              "  <tbody>\n",
              "    <tr>\n",
              "      <th>0</th>\n",
              "      <td>4</td>\n",
              "      <td>I am a developer by profession</td>\n",
              "      <td>No</td>\n",
              "      <td>Never</td>\n",
              "      <td>The quality of OSS and closed source software ...</td>\n",
              "      <td>Employed full-time</td>\n",
              "      <td>United States</td>\n",
              "      <td>No</td>\n",
              "      <td>Bachelor’s degree (BA, BS, B.Eng., etc.)</td>\n",
              "      <td>Computer science, computer engineering, or sof...</td>\n",
              "      <td>...</td>\n",
              "      <td>Just as welcome now as I felt last year</td>\n",
              "      <td>Tech articles written by other developers;Indu...</td>\n",
              "      <td>22.0</td>\n",
              "      <td>Man</td>\n",
              "      <td>No</td>\n",
              "      <td>Straight / Heterosexual</td>\n",
              "      <td>White or of European descent</td>\n",
              "      <td>No</td>\n",
              "      <td>Appropriate in length</td>\n",
              "      <td>Easy</td>\n",
              "    </tr>\n",
              "    <tr>\n",
              "      <th>1</th>\n",
              "      <td>9</td>\n",
              "      <td>I am a developer by profession</td>\n",
              "      <td>Yes</td>\n",
              "      <td>Once a month or more often</td>\n",
              "      <td>The quality of OSS and closed source software ...</td>\n",
              "      <td>Employed full-time</td>\n",
              "      <td>New Zealand</td>\n",
              "      <td>No</td>\n",
              "      <td>Some college/university study without earning ...</td>\n",
              "      <td>Computer science, computer engineering, or sof...</td>\n",
              "      <td>...</td>\n",
              "      <td>Just as welcome now as I felt last year</td>\n",
              "      <td>NaN</td>\n",
              "      <td>23.0</td>\n",
              "      <td>Man</td>\n",
              "      <td>No</td>\n",
              "      <td>Bisexual</td>\n",
              "      <td>White or of European descent</td>\n",
              "      <td>No</td>\n",
              "      <td>Appropriate in length</td>\n",
              "      <td>Neither easy nor difficult</td>\n",
              "    </tr>\n",
              "  </tbody>\n",
              "</table>\n",
              "<p>2 rows × 85 columns</p>\n",
              "</div>\n",
              "    <div class=\"colab-df-buttons\">\n",
              "\n",
              "  <div class=\"colab-df-container\">\n",
              "    <button class=\"colab-df-convert\" onclick=\"convertToInteractive('df-8aa3d245-9066-4db0-8528-a6e0de30cefc')\"\n",
              "            title=\"Convert this dataframe to an interactive table.\"\n",
              "            style=\"display:none;\">\n",
              "\n",
              "  <svg xmlns=\"http://www.w3.org/2000/svg\" height=\"24px\" viewBox=\"0 -960 960 960\">\n",
              "    <path d=\"M120-120v-720h720v720H120Zm60-500h600v-160H180v160Zm220 220h160v-160H400v160Zm0 220h160v-160H400v160ZM180-400h160v-160H180v160Zm440 0h160v-160H620v160ZM180-180h160v-160H180v160Zm440 0h160v-160H620v160Z\"/>\n",
              "  </svg>\n",
              "    </button>\n",
              "\n",
              "  <style>\n",
              "    .colab-df-container {\n",
              "      display:flex;\n",
              "      gap: 12px;\n",
              "    }\n",
              "\n",
              "    .colab-df-convert {\n",
              "      background-color: #E8F0FE;\n",
              "      border: none;\n",
              "      border-radius: 50%;\n",
              "      cursor: pointer;\n",
              "      display: none;\n",
              "      fill: #1967D2;\n",
              "      height: 32px;\n",
              "      padding: 0 0 0 0;\n",
              "      width: 32px;\n",
              "    }\n",
              "\n",
              "    .colab-df-convert:hover {\n",
              "      background-color: #E2EBFA;\n",
              "      box-shadow: 0px 1px 2px rgba(60, 64, 67, 0.3), 0px 1px 3px 1px rgba(60, 64, 67, 0.15);\n",
              "      fill: #174EA6;\n",
              "    }\n",
              "\n",
              "    .colab-df-buttons div {\n",
              "      margin-bottom: 4px;\n",
              "    }\n",
              "\n",
              "    [theme=dark] .colab-df-convert {\n",
              "      background-color: #3B4455;\n",
              "      fill: #D2E3FC;\n",
              "    }\n",
              "\n",
              "    [theme=dark] .colab-df-convert:hover {\n",
              "      background-color: #434B5C;\n",
              "      box-shadow: 0px 1px 3px 1px rgba(0, 0, 0, 0.15);\n",
              "      filter: drop-shadow(0px 1px 2px rgba(0, 0, 0, 0.3));\n",
              "      fill: #FFFFFF;\n",
              "    }\n",
              "  </style>\n",
              "\n",
              "    <script>\n",
              "      const buttonEl =\n",
              "        document.querySelector('#df-8aa3d245-9066-4db0-8528-a6e0de30cefc button.colab-df-convert');\n",
              "      buttonEl.style.display =\n",
              "        google.colab.kernel.accessAllowed ? 'block' : 'none';\n",
              "\n",
              "      async function convertToInteractive(key) {\n",
              "        const element = document.querySelector('#df-8aa3d245-9066-4db0-8528-a6e0de30cefc');\n",
              "        const dataTable =\n",
              "          await google.colab.kernel.invokeFunction('convertToInteractive',\n",
              "                                                    [key], {});\n",
              "        if (!dataTable) return;\n",
              "\n",
              "        const docLinkHtml = 'Like what you see? Visit the ' +\n",
              "          '<a target=\"_blank\" href=https://colab.research.google.com/notebooks/data_table.ipynb>data table notebook</a>'\n",
              "          + ' to learn more about interactive tables.';\n",
              "        element.innerHTML = '';\n",
              "        dataTable['output_type'] = 'display_data';\n",
              "        await google.colab.output.renderOutput(dataTable, element);\n",
              "        const docLink = document.createElement('div');\n",
              "        docLink.innerHTML = docLinkHtml;\n",
              "        element.appendChild(docLink);\n",
              "      }\n",
              "    </script>\n",
              "  </div>\n",
              "\n",
              "\n",
              "<div id=\"df-f9e3e8d5-6221-4341-b135-dc1f599a5506\">\n",
              "  <button class=\"colab-df-quickchart\" onclick=\"quickchart('df-f9e3e8d5-6221-4341-b135-dc1f599a5506')\"\n",
              "            title=\"Suggest charts\"\n",
              "            style=\"display:none;\">\n",
              "\n",
              "<svg xmlns=\"http://www.w3.org/2000/svg\" height=\"24px\"viewBox=\"0 0 24 24\"\n",
              "     width=\"24px\">\n",
              "    <g>\n",
              "        <path d=\"M19 3H5c-1.1 0-2 .9-2 2v14c0 1.1.9 2 2 2h14c1.1 0 2-.9 2-2V5c0-1.1-.9-2-2-2zM9 17H7v-7h2v7zm4 0h-2V7h2v10zm4 0h-2v-4h2v4z\"/>\n",
              "    </g>\n",
              "</svg>\n",
              "  </button>\n",
              "\n",
              "<style>\n",
              "  .colab-df-quickchart {\n",
              "      --bg-color: #E8F0FE;\n",
              "      --fill-color: #1967D2;\n",
              "      --hover-bg-color: #E2EBFA;\n",
              "      --hover-fill-color: #174EA6;\n",
              "      --disabled-fill-color: #AAA;\n",
              "      --disabled-bg-color: #DDD;\n",
              "  }\n",
              "\n",
              "  [theme=dark] .colab-df-quickchart {\n",
              "      --bg-color: #3B4455;\n",
              "      --fill-color: #D2E3FC;\n",
              "      --hover-bg-color: #434B5C;\n",
              "      --hover-fill-color: #FFFFFF;\n",
              "      --disabled-bg-color: #3B4455;\n",
              "      --disabled-fill-color: #666;\n",
              "  }\n",
              "\n",
              "  .colab-df-quickchart {\n",
              "    background-color: var(--bg-color);\n",
              "    border: none;\n",
              "    border-radius: 50%;\n",
              "    cursor: pointer;\n",
              "    display: none;\n",
              "    fill: var(--fill-color);\n",
              "    height: 32px;\n",
              "    padding: 0;\n",
              "    width: 32px;\n",
              "  }\n",
              "\n",
              "  .colab-df-quickchart:hover {\n",
              "    background-color: var(--hover-bg-color);\n",
              "    box-shadow: 0 1px 2px rgba(60, 64, 67, 0.3), 0 1px 3px 1px rgba(60, 64, 67, 0.15);\n",
              "    fill: var(--button-hover-fill-color);\n",
              "  }\n",
              "\n",
              "  .colab-df-quickchart-complete:disabled,\n",
              "  .colab-df-quickchart-complete:disabled:hover {\n",
              "    background-color: var(--disabled-bg-color);\n",
              "    fill: var(--disabled-fill-color);\n",
              "    box-shadow: none;\n",
              "  }\n",
              "\n",
              "  .colab-df-spinner {\n",
              "    border: 2px solid var(--fill-color);\n",
              "    border-color: transparent;\n",
              "    border-bottom-color: var(--fill-color);\n",
              "    animation:\n",
              "      spin 1s steps(1) infinite;\n",
              "  }\n",
              "\n",
              "  @keyframes spin {\n",
              "    0% {\n",
              "      border-color: transparent;\n",
              "      border-bottom-color: var(--fill-color);\n",
              "      border-left-color: var(--fill-color);\n",
              "    }\n",
              "    20% {\n",
              "      border-color: transparent;\n",
              "      border-left-color: var(--fill-color);\n",
              "      border-top-color: var(--fill-color);\n",
              "    }\n",
              "    30% {\n",
              "      border-color: transparent;\n",
              "      border-left-color: var(--fill-color);\n",
              "      border-top-color: var(--fill-color);\n",
              "      border-right-color: var(--fill-color);\n",
              "    }\n",
              "    40% {\n",
              "      border-color: transparent;\n",
              "      border-right-color: var(--fill-color);\n",
              "      border-top-color: var(--fill-color);\n",
              "    }\n",
              "    60% {\n",
              "      border-color: transparent;\n",
              "      border-right-color: var(--fill-color);\n",
              "    }\n",
              "    80% {\n",
              "      border-color: transparent;\n",
              "      border-right-color: var(--fill-color);\n",
              "      border-bottom-color: var(--fill-color);\n",
              "    }\n",
              "    90% {\n",
              "      border-color: transparent;\n",
              "      border-bottom-color: var(--fill-color);\n",
              "    }\n",
              "  }\n",
              "</style>\n",
              "\n",
              "  <script>\n",
              "    async function quickchart(key) {\n",
              "      const quickchartButtonEl =\n",
              "        document.querySelector('#' + key + ' button');\n",
              "      quickchartButtonEl.disabled = true;  // To prevent multiple clicks.\n",
              "      quickchartButtonEl.classList.add('colab-df-spinner');\n",
              "      try {\n",
              "        const charts = await google.colab.kernel.invokeFunction(\n",
              "            'suggestCharts', [key], {});\n",
              "      } catch (error) {\n",
              "        console.error('Error during call to suggestCharts:', error);\n",
              "      }\n",
              "      quickchartButtonEl.classList.remove('colab-df-spinner');\n",
              "      quickchartButtonEl.classList.add('colab-df-quickchart-complete');\n",
              "    }\n",
              "    (() => {\n",
              "      let quickchartButtonEl =\n",
              "        document.querySelector('#df-f9e3e8d5-6221-4341-b135-dc1f599a5506 button');\n",
              "      quickchartButtonEl.style.display =\n",
              "        google.colab.kernel.accessAllowed ? 'block' : 'none';\n",
              "    })();\n",
              "  </script>\n",
              "</div>\n",
              "\n",
              "    </div>\n",
              "  </div>\n"
            ],
            "application/vnd.google.colaboratory.intrinsic+json": {
              "type": "dataframe",
              "variable_name": "df"
            }
          },
          "metadata": {},
          "execution_count": 8
        }
      ],
      "source": [
        "# your code goes here\n",
        "df.head(2)"
      ]
    },
    {
      "cell_type": "markdown",
      "metadata": {
        "id": "B6gh8ReuxX_t"
      },
      "source": [
        "## Find out the number of rows and columns\n"
      ]
    },
    {
      "cell_type": "markdown",
      "metadata": {
        "id": "60qGOfrLxX_t"
      },
      "source": [
        "Start by exploring the numbers of rows and columns of data in the dataset.\n"
      ]
    },
    {
      "cell_type": "markdown",
      "metadata": {
        "id": "sFlnYp-wxX_u"
      },
      "source": [
        "Print the number of rows in the dataset.\n"
      ]
    },
    {
      "cell_type": "code",
      "execution_count": 10,
      "metadata": {
        "colab": {
          "base_uri": "https://localhost:8080/"
        },
        "id": "dmZf5bRLxX_v",
        "outputId": "eb8e4004-75e2-4dd6-a377-d845095dffe8"
      },
      "outputs": [
        {
          "output_type": "stream",
          "name": "stdout",
          "text": [
            "Number of rows :  11552\n"
          ]
        }
      ],
      "source": [
        "# your code goes here\n",
        "print('Number of rows : ',len(df.index))\n"
      ]
    },
    {
      "cell_type": "markdown",
      "metadata": {
        "id": "reNwKq7uxX_v"
      },
      "source": [
        "Print the number of columns in the dataset.\n"
      ]
    },
    {
      "cell_type": "code",
      "execution_count": 11,
      "metadata": {
        "colab": {
          "base_uri": "https://localhost:8080/"
        },
        "id": "gM0bZ6cdxX_v",
        "outputId": "07cc491f-609d-4062-a480-1c444edbd737"
      },
      "outputs": [
        {
          "output_type": "stream",
          "name": "stdout",
          "text": [
            "The dataset contains 85 columns.\n"
          ]
        }
      ],
      "source": [
        "# your code goes here\n",
        "# Print the number of columns in the dataset\n",
        "num_columns = df.shape[1]\n",
        "print(f\"The dataset contains {num_columns} columns.\")\n"
      ]
    },
    {
      "cell_type": "markdown",
      "metadata": {
        "id": "kMm5rd4cxX_x"
      },
      "source": [
        "## Identify the data types of each column\n"
      ]
    },
    {
      "cell_type": "markdown",
      "metadata": {
        "id": "JYks6ogNxX_x"
      },
      "source": [
        "Explore the dataset and identify the data types of each column.\n"
      ]
    },
    {
      "cell_type": "markdown",
      "metadata": {
        "id": "wnSuq-aQxX_y"
      },
      "source": [
        "Print the datatype of all columns.\n"
      ]
    },
    {
      "cell_type": "code",
      "execution_count": 12,
      "metadata": {
        "colab": {
          "base_uri": "https://localhost:8080/"
        },
        "id": "ACfLhDKsxX_y",
        "outputId": "e678c342-699d-4fe8-dc5c-ef4b392bd167"
      },
      "outputs": [
        {
          "output_type": "stream",
          "name": "stdout",
          "text": [
            "Respondent       int64\n",
            "MainBranch      object\n",
            "Hobbyist        object\n",
            "OpenSourcer     object\n",
            "OpenSource      object\n",
            "                 ...  \n",
            "Sexuality       object\n",
            "Ethnicity       object\n",
            "Dependents      object\n",
            "SurveyLength    object\n",
            "SurveyEase      object\n",
            "Length: 85, dtype: object\n"
          ]
        }
      ],
      "source": [
        "# your code goes here\n",
        "# Print the data types of all columns in the dataset\n",
        "print(df.dtypes)\n"
      ]
    },
    {
      "cell_type": "markdown",
      "metadata": {
        "id": "uT0b0CdSxX_y"
      },
      "source": [
        "Print the mean age of the survey participants.\n"
      ]
    },
    {
      "cell_type": "code",
      "execution_count": 13,
      "metadata": {
        "colab": {
          "base_uri": "https://localhost:8080/"
        },
        "id": "e-hUCprPxX_y",
        "outputId": "a2fc5606-2644-4cc2-a752-4d4aaf672ea4"
      },
      "outputs": [
        {
          "output_type": "stream",
          "name": "stdout",
          "text": [
            "The mean age of the survey participants is 30.77 years.\n"
          ]
        }
      ],
      "source": [
        "# your code goes here\n",
        "# Assuming the column that represents age is named 'Age'\n",
        "mean_age = df['Age'].mean()\n",
        "\n",
        "print(f\"The mean age of the survey participants is {mean_age:.2f} years.\")\n"
      ]
    },
    {
      "cell_type": "markdown",
      "metadata": {
        "id": "nQVjq4hfxX_z"
      },
      "source": [
        "The dataset is the result of a world wide survey. Print how many unique countries are there in the Country column.\n"
      ]
    },
    {
      "cell_type": "code",
      "execution_count": 14,
      "metadata": {
        "colab": {
          "base_uri": "https://localhost:8080/"
        },
        "id": "BpctNg-FxX_z",
        "outputId": "2d7e4b53-3397-4a76-907a-9da0b8e5f0ba"
      },
      "outputs": [
        {
          "output_type": "stream",
          "name": "stdout",
          "text": [
            "There are 135 unique countries in the dataset.\n"
          ]
        }
      ],
      "source": [
        "# your code goes here\n",
        "# Print the number of unique countries in the 'Country' column\n",
        "unique_countries = df['Country'].nunique()\n",
        "\n",
        "print(f\"There are {unique_countries} unique countries in the dataset.\")\n"
      ]
    },
    {
      "cell_type": "markdown",
      "metadata": {
        "id": "JLt6YUqnxX_z"
      },
      "source": [
        "## Authors\n"
      ]
    },
    {
      "cell_type": "markdown",
      "metadata": {
        "id": "84JwMBM_xX_0"
      },
      "source": [
        "Ramesh Sannareddy\n"
      ]
    },
    {
      "cell_type": "markdown",
      "metadata": {
        "id": "xoRi0eHExX_0"
      },
      "source": [
        "### Other Contributors\n"
      ]
    },
    {
      "cell_type": "markdown",
      "metadata": {
        "id": "i9BoulozxX_0"
      },
      "source": [
        "Rav Ahuja\n"
      ]
    },
    {
      "cell_type": "markdown",
      "metadata": {
        "id": "mxCXr_ZExX_0"
      },
      "source": [
        "## Change Log\n"
      ]
    },
    {
      "cell_type": "markdown",
      "metadata": {
        "id": "mICeQXMvxX_0"
      },
      "source": [
        "| Date (YYYY-MM-DD) | Version | Changed By        | Change Description                 |\n",
        "| ----------------- | ------- | ----------------- | ---------------------------------- |\n",
        "| 2020-10-17        | 0.1     | Ramesh Sannareddy | Created initial version of the lab |\n"
      ]
    },
    {
      "cell_type": "markdown",
      "metadata": {
        "id": "1kaAkQ2ExX_1"
      },
      "source": [
        " Copyright © 2020 IBM Corporation. This notebook and its source code are released under the terms of the [MIT License](https://cognitiveclass.ai/mit-license?utm_medium=Exinfluencer&utm_source=Exinfluencer&utm_content=000026UJ&utm_term=10006555&utm_id=NA-SkillsNetwork-Channel-SkillsNetworkCoursesIBMDA0321ENSkillsNetwork928-2022-01-01&cm_mmc=Email_Newsletter-_-Developer_Ed%2BTech-_-WW_WW-_-SkillsNetwork-Courses-IBM-DA0321EN-SkillsNetwork-21426264&cm_mmca1=000026UJ&cm_mmca2=10006555&cm_mmca3=M12345678&cvosrc=email.Newsletter.M12345678&cvo_campaign=000026UJ).\n"
      ]
    }
  ],
  "metadata": {
    "kernelspec": {
      "display_name": "Python",
      "language": "python",
      "name": "conda-env-python-py"
    },
    "language_info": {
      "name": ""
    },
    "colab": {
      "provenance": [],
      "include_colab_link": true
    }
  },
  "nbformat": 4,
  "nbformat_minor": 0
}